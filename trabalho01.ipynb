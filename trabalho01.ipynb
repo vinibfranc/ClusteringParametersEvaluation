{
  "nbformat": 4,
  "nbformat_minor": 0,
  "metadata": {
    "colab": {
      "name": "trabalho01.ipynb",
      "provenance": [],
      "collapsed_sections": []
    },
    "kernelspec": {
      "name": "python3",
      "display_name": "Python 3"
    }
  },
  "cells": [
    {
      "cell_type": "markdown",
      "metadata": {
        "colab_type": "text",
        "id": "SEA63fd5IDm-"
      },
      "source": [
        "# Projeto 1 \n",
        "\n",
        "**Aluno**: Vinícius Bonetti Franceschi\n",
        "\n",
        "**Disciplina**: Aprendizado de Máquina para a Área Biomédica - 2019\n",
        "\n",
        "**Professora**: Ana Winck\n",
        "\n",
        "--------------------------------------------------------------------------------\n",
        "\n",
        "**Objetivo**: O objetivo deste projeto é avaliar o melhor algoritmo de agrupamento de dados,\n",
        "dentre um conjunto de algoritmos selecionados, para um dataset de sua escolha.\n"
      ]
    },
    {
      "cell_type": "markdown",
      "metadata": {
        "id": "us1GhtwX5Ed-",
        "colab_type": "text"
      },
      "source": [
        "## Dataset: Mall customer segmentation data\n",
        "\n",
        "Dataset criado para aprendizado dos conceitos de segmentação de clientes.\n",
        "\n",
        "**Disponível em**: https://www.kaggle.com/vjchoudhary7/customer-segmentation-tutorial-in-python\n"
      ]
    },
    {
      "cell_type": "markdown",
      "metadata": {
        "id": "Y83ZWtJq5YHs",
        "colab_type": "text"
      },
      "source": [
        "## Importação e tratamento dos dados"
      ]
    },
    {
      "cell_type": "code",
      "metadata": {
        "id": "5MXdC_AL5RrL",
        "colab_type": "code",
        "outputId": "47bf8d76-c7f8-4aba-8dce-341466ce75a3",
        "colab": {
          "resources": {
            "http://localhost:8080/nbextensions/google.colab/files.js": {
              "data": "Ly8gQ29weXJpZ2h0IDIwMTcgR29vZ2xlIExMQwovLwovLyBMaWNlbnNlZCB1bmRlciB0aGUgQXBhY2hlIExpY2Vuc2UsIFZlcnNpb24gMi4wICh0aGUgIkxpY2Vuc2UiKTsKLy8geW91IG1heSBub3QgdXNlIHRoaXMgZmlsZSBleGNlcHQgaW4gY29tcGxpYW5jZSB3aXRoIHRoZSBMaWNlbnNlLgovLyBZb3UgbWF5IG9idGFpbiBhIGNvcHkgb2YgdGhlIExpY2Vuc2UgYXQKLy8KLy8gICAgICBodHRwOi8vd3d3LmFwYWNoZS5vcmcvbGljZW5zZXMvTElDRU5TRS0yLjAKLy8KLy8gVW5sZXNzIHJlcXVpcmVkIGJ5IGFwcGxpY2FibGUgbGF3IG9yIGFncmVlZCB0byBpbiB3cml0aW5nLCBzb2Z0d2FyZQovLyBkaXN0cmlidXRlZCB1bmRlciB0aGUgTGljZW5zZSBpcyBkaXN0cmlidXRlZCBvbiBhbiAiQVMgSVMiIEJBU0lTLAovLyBXSVRIT1VUIFdBUlJBTlRJRVMgT1IgQ09ORElUSU9OUyBPRiBBTlkgS0lORCwgZWl0aGVyIGV4cHJlc3Mgb3IgaW1wbGllZC4KLy8gU2VlIHRoZSBMaWNlbnNlIGZvciB0aGUgc3BlY2lmaWMgbGFuZ3VhZ2UgZ292ZXJuaW5nIHBlcm1pc3Npb25zIGFuZAovLyBsaW1pdGF0aW9ucyB1bmRlciB0aGUgTGljZW5zZS4KCi8qKgogKiBAZmlsZW92ZXJ2aWV3IEhlbHBlcnMgZm9yIGdvb2dsZS5jb2xhYiBQeXRob24gbW9kdWxlLgogKi8KKGZ1bmN0aW9uKHNjb3BlKSB7CmZ1bmN0aW9uIHNwYW4odGV4dCwgc3R5bGVBdHRyaWJ1dGVzID0ge30pIHsKICBjb25zdCBlbGVtZW50ID0gZG9jdW1lbnQuY3JlYXRlRWxlbWVudCgnc3BhbicpOwogIGVsZW1lbnQudGV4dENvbnRlbnQgPSB0ZXh0OwogIGZvciAoY29uc3Qga2V5IG9mIE9iamVjdC5rZXlzKHN0eWxlQXR0cmlidXRlcykpIHsKICAgIGVsZW1lbnQuc3R5bGVba2V5XSA9IHN0eWxlQXR0cmlidXRlc1trZXldOwogIH0KICByZXR1cm4gZWxlbWVudDsKfQoKLy8gTWF4IG51bWJlciBvZiBieXRlcyB3aGljaCB3aWxsIGJlIHVwbG9hZGVkIGF0IGEgdGltZS4KY29uc3QgTUFYX1BBWUxPQURfU0laRSA9IDEwMCAqIDEwMjQ7Ci8vIE1heCBhbW91bnQgb2YgdGltZSB0byBibG9jayB3YWl0aW5nIGZvciB0aGUgdXNlci4KY29uc3QgRklMRV9DSEFOR0VfVElNRU9VVF9NUyA9IDMwICogMTAwMDsKCmZ1bmN0aW9uIF91cGxvYWRGaWxlcyhpbnB1dElkLCBvdXRwdXRJZCkgewogIGNvbnN0IHN0ZXBzID0gdXBsb2FkRmlsZXNTdGVwKGlucHV0SWQsIG91dHB1dElkKTsKICBjb25zdCBvdXRwdXRFbGVtZW50ID0gZG9jdW1lbnQuZ2V0RWxlbWVudEJ5SWQob3V0cHV0SWQpOwogIC8vIENhY2hlIHN0ZXBzIG9uIHRoZSBvdXRwdXRFbGVtZW50IHRvIG1ha2UgaXQgYXZhaWxhYmxlIGZvciB0aGUgbmV4dCBjYWxsCiAgLy8gdG8gdXBsb2FkRmlsZXNDb250aW51ZSBmcm9tIFB5dGhvbi4KICBvdXRwdXRFbGVtZW50LnN0ZXBzID0gc3RlcHM7CgogIHJldHVybiBfdXBsb2FkRmlsZXNDb250aW51ZShvdXRwdXRJZCk7Cn0KCi8vIFRoaXMgaXMgcm91Z2hseSBhbiBhc3luYyBnZW5lcmF0b3IgKG5vdCBzdXBwb3J0ZWQgaW4gdGhlIGJyb3dzZXIgeWV0KSwKLy8gd2hlcmUgdGhlcmUgYXJlIG11bHRpcGxlIGFzeW5jaHJvbm91cyBzdGVwcyBhbmQgdGhlIFB5dGhvbiBzaWRlIGlzIGdvaW5nCi8vIHRvIHBvbGwgZm9yIGNvbXBsZXRpb24gb2YgZWFjaCBzdGVwLgovLyBUaGlzIHVzZXMgYSBQcm9taXNlIHRvIGJsb2NrIHRoZSBweXRob24gc2lkZSBvbiBjb21wbGV0aW9uIG9mIGVhY2ggc3RlcCwKLy8gdGhlbiBwYXNzZXMgdGhlIHJlc3VsdCBvZiB0aGUgcHJldmlvdXMgc3RlcCBhcyB0aGUgaW5wdXQgdG8gdGhlIG5leHQgc3RlcC4KZnVuY3Rpb24gX3VwbG9hZEZpbGVzQ29udGludWUob3V0cHV0SWQpIHsKICBjb25zdCBvdXRwdXRFbGVtZW50ID0gZG9jdW1lbnQuZ2V0RWxlbWVudEJ5SWQob3V0cHV0SWQpOwogIGNvbnN0IHN0ZXBzID0gb3V0cHV0RWxlbWVudC5zdGVwczsKCiAgY29uc3QgbmV4dCA9IHN0ZXBzLm5leHQob3V0cHV0RWxlbWVudC5sYXN0UHJvbWlzZVZhbHVlKTsKICByZXR1cm4gUHJvbWlzZS5yZXNvbHZlKG5leHQudmFsdWUucHJvbWlzZSkudGhlbigodmFsdWUpID0+IHsKICAgIC8vIENhY2hlIHRoZSBsYXN0IHByb21pc2UgdmFsdWUgdG8gbWFrZSBpdCBhdmFpbGFibGUgdG8gdGhlIG5leHQKICAgIC8vIHN0ZXAgb2YgdGhlIGdlbmVyYXRvci4KICAgIG91dHB1dEVsZW1lbnQubGFzdFByb21pc2VWYWx1ZSA9IHZhbHVlOwogICAgcmV0dXJuIG5leHQudmFsdWUucmVzcG9uc2U7CiAgfSk7Cn0KCi8qKgogKiBHZW5lcmF0b3IgZnVuY3Rpb24gd2hpY2ggaXMgY2FsbGVkIGJldHdlZW4gZWFjaCBhc3luYyBzdGVwIG9mIHRoZSB1cGxvYWQKICogcHJvY2Vzcy4KICogQHBhcmFtIHtzdHJpbmd9IGlucHV0SWQgRWxlbWVudCBJRCBvZiB0aGUgaW5wdXQgZmlsZSBwaWNrZXIgZWxlbWVudC4KICogQHBhcmFtIHtzdHJpbmd9IG91dHB1dElkIEVsZW1lbnQgSUQgb2YgdGhlIG91dHB1dCBkaXNwbGF5LgogKiBAcmV0dXJuIHshSXRlcmFibGU8IU9iamVjdD59IEl0ZXJhYmxlIG9mIG5leHQgc3RlcHMuCiAqLwpmdW5jdGlvbiogdXBsb2FkRmlsZXNTdGVwKGlucHV0SWQsIG91dHB1dElkKSB7CiAgY29uc3QgaW5wdXRFbGVtZW50ID0gZG9jdW1lbnQuZ2V0RWxlbWVudEJ5SWQoaW5wdXRJZCk7CiAgaW5wdXRFbGVtZW50LmRpc2FibGVkID0gZmFsc2U7CgogIGNvbnN0IG91dHB1dEVsZW1lbnQgPSBkb2N1bWVudC5nZXRFbGVtZW50QnlJZChvdXRwdXRJZCk7CiAgb3V0cHV0RWxlbWVudC5pbm5lckhUTUwgPSAnJzsKCiAgY29uc3QgcGlja2VkUHJvbWlzZSA9IG5ldyBQcm9taXNlKChyZXNvbHZlKSA9PiB7CiAgICBpbnB1dEVsZW1lbnQuYWRkRXZlbnRMaXN0ZW5lcignY2hhbmdlJywgKGUpID0+IHsKICAgICAgcmVzb2x2ZShlLnRhcmdldC5maWxlcyk7CiAgICB9KTsKICB9KTsKCiAgY29uc3QgY2FuY2VsID0gZG9jdW1lbnQuY3JlYXRlRWxlbWVudCgnYnV0dG9uJyk7CiAgaW5wdXRFbGVtZW50LnBhcmVudEVsZW1lbnQuYXBwZW5kQ2hpbGQoY2FuY2VsKTsKICBjYW5jZWwudGV4dENvbnRlbnQgPSAnQ2FuY2VsIHVwbG9hZCc7CiAgY29uc3QgY2FuY2VsUHJvbWlzZSA9IG5ldyBQcm9taXNlKChyZXNvbHZlKSA9PiB7CiAgICBjYW5jZWwub25jbGljayA9ICgpID0+IHsKICAgICAgcmVzb2x2ZShudWxsKTsKICAgIH07CiAgfSk7CgogIC8vIENhbmNlbCB1cGxvYWQgaWYgdXNlciBoYXNuJ3QgcGlja2VkIGFueXRoaW5nIGluIHRpbWVvdXQuCiAgY29uc3QgdGltZW91dFByb21pc2UgPSBuZXcgUHJvbWlzZSgocmVzb2x2ZSkgPT4gewogICAgc2V0VGltZW91dCgoKSA9PiB7CiAgICAgIHJlc29sdmUobnVsbCk7CiAgICB9LCBGSUxFX0NIQU5HRV9USU1FT1VUX01TKTsKICB9KTsKCiAgLy8gV2FpdCBmb3IgdGhlIHVzZXIgdG8gcGljayB0aGUgZmlsZXMuCiAgY29uc3QgZmlsZXMgPSB5aWVsZCB7CiAgICBwcm9taXNlOiBQcm9taXNlLnJhY2UoW3BpY2tlZFByb21pc2UsIHRpbWVvdXRQcm9taXNlLCBjYW5jZWxQcm9taXNlXSksCiAgICByZXNwb25zZTogewogICAgICBhY3Rpb246ICdzdGFydGluZycsCiAgICB9CiAgfTsKCiAgaWYgKCFmaWxlcykgewogICAgcmV0dXJuIHsKICAgICAgcmVzcG9uc2U6IHsKICAgICAgICBhY3Rpb246ICdjb21wbGV0ZScsCiAgICAgIH0KICAgIH07CiAgfQoKICBjYW5jZWwucmVtb3ZlKCk7CgogIC8vIERpc2FibGUgdGhlIGlucHV0IGVsZW1lbnQgc2luY2UgZnVydGhlciBwaWNrcyBhcmUgbm90IGFsbG93ZWQuCiAgaW5wdXRFbGVtZW50LmRpc2FibGVkID0gdHJ1ZTsKCiAgZm9yIChjb25zdCBmaWxlIG9mIGZpbGVzKSB7CiAgICBjb25zdCBsaSA9IGRvY3VtZW50LmNyZWF0ZUVsZW1lbnQoJ2xpJyk7CiAgICBsaS5hcHBlbmQoc3BhbihmaWxlLm5hbWUsIHtmb250V2VpZ2h0OiAnYm9sZCd9KSk7CiAgICBsaS5hcHBlbmQoc3BhbigKICAgICAgICBgKCR7ZmlsZS50eXBlIHx8ICduL2EnfSkgLSAke2ZpbGUuc2l6ZX0gYnl0ZXMsIGAgKwogICAgICAgIGBsYXN0IG1vZGlmaWVkOiAkewogICAgICAgICAgICBmaWxlLmxhc3RNb2RpZmllZERhdGUgPyBmaWxlLmxhc3RNb2RpZmllZERhdGUudG9Mb2NhbGVEYXRlU3RyaW5nKCkgOgogICAgICAgICAgICAgICAgICAgICAgICAgICAgICAgICAgICAnbi9hJ30gLSBgKSk7CiAgICBjb25zdCBwZXJjZW50ID0gc3BhbignMCUgZG9uZScpOwogICAgbGkuYXBwZW5kQ2hpbGQocGVyY2VudCk7CgogICAgb3V0cHV0RWxlbWVudC5hcHBlbmRDaGlsZChsaSk7CgogICAgY29uc3QgZmlsZURhdGFQcm9taXNlID0gbmV3IFByb21pc2UoKHJlc29sdmUpID0+IHsKICAgICAgY29uc3QgcmVhZGVyID0gbmV3IEZpbGVSZWFkZXIoKTsKICAgICAgcmVhZGVyLm9ubG9hZCA9IChlKSA9PiB7CiAgICAgICAgcmVzb2x2ZShlLnRhcmdldC5yZXN1bHQpOwogICAgICB9OwogICAgICByZWFkZXIucmVhZEFzQXJyYXlCdWZmZXIoZmlsZSk7CiAgICB9KTsKICAgIC8vIFdhaXQgZm9yIHRoZSBkYXRhIHRvIGJlIHJlYWR5LgogICAgbGV0IGZpbGVEYXRhID0geWllbGQgewogICAgICBwcm9taXNlOiBmaWxlRGF0YVByb21pc2UsCiAgICAgIHJlc3BvbnNlOiB7CiAgICAgICAgYWN0aW9uOiAnY29udGludWUnLAogICAgICB9CiAgICB9OwoKICAgIC8vIFVzZSBhIGNodW5rZWQgc2VuZGluZyB0byBhdm9pZCBtZXNzYWdlIHNpemUgbGltaXRzLiBTZWUgYi82MjExNTY2MC4KICAgIGxldCBwb3NpdGlvbiA9IDA7CiAgICB3aGlsZSAocG9zaXRpb24gPCBmaWxlRGF0YS5ieXRlTGVuZ3RoKSB7CiAgICAgIGNvbnN0IGxlbmd0aCA9IE1hdGgubWluKGZpbGVEYXRhLmJ5dGVMZW5ndGggLSBwb3NpdGlvbiwgTUFYX1BBWUxPQURfU0laRSk7CiAgICAgIGNvbnN0IGNodW5rID0gbmV3IFVpbnQ4QXJyYXkoZmlsZURhdGEsIHBvc2l0aW9uLCBsZW5ndGgpOwogICAgICBwb3NpdGlvbiArPSBsZW5ndGg7CgogICAgICBjb25zdCBiYXNlNjQgPSBidG9hKFN0cmluZy5mcm9tQ2hhckNvZGUuYXBwbHkobnVsbCwgY2h1bmspKTsKICAgICAgeWllbGQgewogICAgICAgIHJlc3BvbnNlOiB7CiAgICAgICAgICBhY3Rpb246ICdhcHBlbmQnLAogICAgICAgICAgZmlsZTogZmlsZS5uYW1lLAogICAgICAgICAgZGF0YTogYmFzZTY0LAogICAgICAgIH0sCiAgICAgIH07CiAgICAgIHBlcmNlbnQudGV4dENvbnRlbnQgPQogICAgICAgICAgYCR7TWF0aC5yb3VuZCgocG9zaXRpb24gLyBmaWxlRGF0YS5ieXRlTGVuZ3RoKSAqIDEwMCl9JSBkb25lYDsKICAgIH0KICB9CgogIC8vIEFsbCBkb25lLgogIHlpZWxkIHsKICAgIHJlc3BvbnNlOiB7CiAgICAgIGFjdGlvbjogJ2NvbXBsZXRlJywKICAgIH0KICB9Owp9CgpzY29wZS5nb29nbGUgPSBzY29wZS5nb29nbGUgfHwge307CnNjb3BlLmdvb2dsZS5jb2xhYiA9IHNjb3BlLmdvb2dsZS5jb2xhYiB8fCB7fTsKc2NvcGUuZ29vZ2xlLmNvbGFiLl9maWxlcyA9IHsKICBfdXBsb2FkRmlsZXMsCiAgX3VwbG9hZEZpbGVzQ29udGludWUsCn07Cn0pKHNlbGYpOwo=",
              "ok": true,
              "headers": [
                [
                  "content-type",
                  "application/javascript"
                ]
              ],
              "status": 200,
              "status_text": ""
            }
          },
          "base_uri": "https://localhost:8080/",
          "height": 110
        }
      },
      "source": [
        "from google.colab import files\n",
        "files.upload()"
      ],
      "execution_count": 6,
      "outputs": [
        {
          "output_type": "display_data",
          "data": {
            "text/html": [
              "\n",
              "     <input type=\"file\" id=\"files-10b31649-8117-40a9-86cf-4faa725a4b3f\" name=\"files[]\" multiple disabled />\n",
              "     <output id=\"result-10b31649-8117-40a9-86cf-4faa725a4b3f\">\n",
              "      Upload widget is only available when the cell has been executed in the\n",
              "      current browser session. Please rerun this cell to enable.\n",
              "      </output>\n",
              "      <script src=\"/nbextensions/google.colab/files.js\"></script> "
            ],
            "text/plain": [
              "<IPython.core.display.HTML object>"
            ]
          },
          "metadata": {
            "tags": []
          }
        },
        {
          "output_type": "stream",
          "text": [
            "Saving Mall_Customers.csv to Mall_Customers.csv\n"
          ],
          "name": "stdout"
        },
        {
          "output_type": "execute_result",
          "data": {
            "text/plain": [
              "{'Mall_Customers.csv': b'CustomerID,Gender,Age,Annual Income (k$),Spending Score (1-100)\\r\\n1,Male,19,15,39\\r\\n2,Male,21,15,81\\r\\n3,Female,20,16,6\\r\\n4,Female,23,16,77\\r\\n5,Female,31,17,40\\r\\n6,Female,22,17,76\\r\\n7,Female,35,18,6\\r\\n8,Female,23,18,94\\r\\n9,Male,64,19,3\\r\\n10,Female,30,19,72\\r\\n11,Male,67,19,14\\r\\n12,Female,35,19,99\\r\\n13,Female,58,20,15\\r\\n14,Female,24,20,77\\r\\n15,Male,37,20,13\\r\\n16,Male,22,20,79\\r\\n17,Female,35,21,35\\r\\n18,Male,20,21,66\\r\\n19,Male,52,23,29\\r\\n20,Female,35,23,98\\r\\n21,Male,35,24,35\\r\\n22,Male,25,24,73\\r\\n23,Female,46,25,5\\r\\n24,Male,31,25,73\\r\\n25,Female,54,28,14\\r\\n26,Male,29,28,82\\r\\n27,Female,45,28,32\\r\\n28,Male,35,28,61\\r\\n29,Female,40,29,31\\r\\n30,Female,23,29,87\\r\\n31,Male,60,30,4\\r\\n32,Female,21,30,73\\r\\n33,Male,53,33,4\\r\\n34,Male,18,33,92\\r\\n35,Female,49,33,14\\r\\n36,Female,21,33,81\\r\\n37,Female,42,34,17\\r\\n38,Female,30,34,73\\r\\n39,Female,36,37,26\\r\\n40,Female,20,37,75\\r\\n41,Female,65,38,35\\r\\n42,Male,24,38,92\\r\\n43,Male,48,39,36\\r\\n44,Female,31,39,61\\r\\n45,Female,49,39,28\\r\\n46,Female,24,39,65\\r\\n47,Female,50,40,55\\r\\n48,Female,27,40,47\\r\\n49,Female,29,40,42\\r\\n50,Female,31,40,42\\r\\n51,Female,49,42,52\\r\\n52,Male,33,42,60\\r\\n53,Female,31,43,54\\r\\n54,Male,59,43,60\\r\\n55,Female,50,43,45\\r\\n56,Male,47,43,41\\r\\n57,Female,51,44,50\\r\\n58,Male,69,44,46\\r\\n59,Female,27,46,51\\r\\n60,Male,53,46,46\\r\\n61,Male,70,46,56\\r\\n62,Male,19,46,55\\r\\n63,Female,67,47,52\\r\\n64,Female,54,47,59\\r\\n65,Male,63,48,51\\r\\n66,Male,18,48,59\\r\\n67,Female,43,48,50\\r\\n68,Female,68,48,48\\r\\n69,Male,19,48,59\\r\\n70,Female,32,48,47\\r\\n71,Male,70,49,55\\r\\n72,Female,47,49,42\\r\\n73,Female,60,50,49\\r\\n74,Female,60,50,56\\r\\n75,Male,59,54,47\\r\\n76,Male,26,54,54\\r\\n77,Female,45,54,53\\r\\n78,Male,40,54,48\\r\\n79,Female,23,54,52\\r\\n80,Female,49,54,42\\r\\n81,Male,57,54,51\\r\\n82,Male,38,54,55\\r\\n83,Male,67,54,41\\r\\n84,Female,46,54,44\\r\\n85,Female,21,54,57\\r\\n86,Male,48,54,46\\r\\n87,Female,55,57,58\\r\\n88,Female,22,57,55\\r\\n89,Female,34,58,60\\r\\n90,Female,50,58,46\\r\\n91,Female,68,59,55\\r\\n92,Male,18,59,41\\r\\n93,Male,48,60,49\\r\\n94,Female,40,60,40\\r\\n95,Female,32,60,42\\r\\n96,Male,24,60,52\\r\\n97,Female,47,60,47\\r\\n98,Female,27,60,50\\r\\n99,Male,48,61,42\\r\\n100,Male,20,61,49\\r\\n101,Female,23,62,41\\r\\n102,Female,49,62,48\\r\\n103,Male,67,62,59\\r\\n104,Male,26,62,55\\r\\n105,Male,49,62,56\\r\\n106,Female,21,62,42\\r\\n107,Female,66,63,50\\r\\n108,Male,54,63,46\\r\\n109,Male,68,63,43\\r\\n110,Male,66,63,48\\r\\n111,Male,65,63,52\\r\\n112,Female,19,63,54\\r\\n113,Female,38,64,42\\r\\n114,Male,19,64,46\\r\\n115,Female,18,65,48\\r\\n116,Female,19,65,50\\r\\n117,Female,63,65,43\\r\\n118,Female,49,65,59\\r\\n119,Female,51,67,43\\r\\n120,Female,50,67,57\\r\\n121,Male,27,67,56\\r\\n122,Female,38,67,40\\r\\n123,Female,40,69,58\\r\\n124,Male,39,69,91\\r\\n125,Female,23,70,29\\r\\n126,Female,31,70,77\\r\\n127,Male,43,71,35\\r\\n128,Male,40,71,95\\r\\n129,Male,59,71,11\\r\\n130,Male,38,71,75\\r\\n131,Male,47,71,9\\r\\n132,Male,39,71,75\\r\\n133,Female,25,72,34\\r\\n134,Female,31,72,71\\r\\n135,Male,20,73,5\\r\\n136,Female,29,73,88\\r\\n137,Female,44,73,7\\r\\n138,Male,32,73,73\\r\\n139,Male,19,74,10\\r\\n140,Female,35,74,72\\r\\n141,Female,57,75,5\\r\\n142,Male,32,75,93\\r\\n143,Female,28,76,40\\r\\n144,Female,32,76,87\\r\\n145,Male,25,77,12\\r\\n146,Male,28,77,97\\r\\n147,Male,48,77,36\\r\\n148,Female,32,77,74\\r\\n149,Female,34,78,22\\r\\n150,Male,34,78,90\\r\\n151,Male,43,78,17\\r\\n152,Male,39,78,88\\r\\n153,Female,44,78,20\\r\\n154,Female,38,78,76\\r\\n155,Female,47,78,16\\r\\n156,Female,27,78,89\\r\\n157,Male,37,78,1\\r\\n158,Female,30,78,78\\r\\n159,Male,34,78,1\\r\\n160,Female,30,78,73\\r\\n161,Female,56,79,35\\r\\n162,Female,29,79,83\\r\\n163,Male,19,81,5\\r\\n164,Female,31,81,93\\r\\n165,Male,50,85,26\\r\\n166,Female,36,85,75\\r\\n167,Male,42,86,20\\r\\n168,Female,33,86,95\\r\\n169,Female,36,87,27\\r\\n170,Male,32,87,63\\r\\n171,Male,40,87,13\\r\\n172,Male,28,87,75\\r\\n173,Male,36,87,10\\r\\n174,Male,36,87,92\\r\\n175,Female,52,88,13\\r\\n176,Female,30,88,86\\r\\n177,Male,58,88,15\\r\\n178,Male,27,88,69\\r\\n179,Male,59,93,14\\r\\n180,Male,35,93,90\\r\\n181,Female,37,97,32\\r\\n182,Female,32,97,86\\r\\n183,Male,46,98,15\\r\\n184,Female,29,98,88\\r\\n185,Female,41,99,39\\r\\n186,Male,30,99,97\\r\\n187,Female,54,101,24\\r\\n188,Male,28,101,68\\r\\n189,Female,41,103,17\\r\\n190,Female,36,103,85\\r\\n191,Female,34,103,23\\r\\n192,Female,32,103,69\\r\\n193,Male,33,113,8\\r\\n194,Female,38,113,91\\r\\n195,Female,47,120,16\\r\\n196,Female,35,120,79\\r\\n197,Female,45,126,28\\r\\n198,Male,32,126,74\\r\\n199,Male,32,137,18\\r\\n200,Male,30,137,83\\r\\n'}"
            ]
          },
          "metadata": {
            "tags": []
          },
          "execution_count": 6
        }
      ]
    },
    {
      "cell_type": "code",
      "metadata": {
        "id": "97PvIO5n5pj3",
        "colab_type": "code",
        "colab": {}
      },
      "source": [
        "import numpy as np \n",
        "import pandas as pd \n",
        "import matplotlib.pyplot as plt \n",
        "from matplotlib import gridspec\n",
        "from sklearn.preprocessing import normalize, StandardScaler\n",
        "%matplotlib inline"
      ],
      "execution_count": 0,
      "outputs": []
    },
    {
      "cell_type": "code",
      "metadata": {
        "id": "QvSv6lFU5s5o",
        "colab_type": "code",
        "colab": {}
      },
      "source": [
        "X = pd.read_csv('Mall_Customers.csv') "
      ],
      "execution_count": 0,
      "outputs": []
    },
    {
      "cell_type": "code",
      "metadata": {
        "id": "c08CVe1k5vbs",
        "colab_type": "code",
        "colab": {}
      },
      "source": [
        "drop_features = ['CustomerID', 'Gender'] \n",
        "X = X.drop(drop_features, axis = 1)\n",
        "X.fillna(method ='ffill', inplace = True) "
      ],
      "execution_count": 0,
      "outputs": []
    },
    {
      "cell_type": "code",
      "metadata": {
        "id": "vjfL35z-53Cw",
        "colab_type": "code",
        "outputId": "69b3ef19-30c4-4e0c-f80a-207ea19e1f3b",
        "colab": {
          "base_uri": "https://localhost:8080/",
          "height": 197
        }
      },
      "source": [
        "X.head() "
      ],
      "execution_count": 10,
      "outputs": [
        {
          "output_type": "execute_result",
          "data": {
            "text/html": [
              "<div>\n",
              "<style scoped>\n",
              "    .dataframe tbody tr th:only-of-type {\n",
              "        vertical-align: middle;\n",
              "    }\n",
              "\n",
              "    .dataframe tbody tr th {\n",
              "        vertical-align: top;\n",
              "    }\n",
              "\n",
              "    .dataframe thead th {\n",
              "        text-align: right;\n",
              "    }\n",
              "</style>\n",
              "<table border=\"1\" class=\"dataframe\">\n",
              "  <thead>\n",
              "    <tr style=\"text-align: right;\">\n",
              "      <th></th>\n",
              "      <th>Age</th>\n",
              "      <th>Annual Income (k$)</th>\n",
              "      <th>Spending Score (1-100)</th>\n",
              "    </tr>\n",
              "  </thead>\n",
              "  <tbody>\n",
              "    <tr>\n",
              "      <th>0</th>\n",
              "      <td>19</td>\n",
              "      <td>15</td>\n",
              "      <td>39</td>\n",
              "    </tr>\n",
              "    <tr>\n",
              "      <th>1</th>\n",
              "      <td>21</td>\n",
              "      <td>15</td>\n",
              "      <td>81</td>\n",
              "    </tr>\n",
              "    <tr>\n",
              "      <th>2</th>\n",
              "      <td>20</td>\n",
              "      <td>16</td>\n",
              "      <td>6</td>\n",
              "    </tr>\n",
              "    <tr>\n",
              "      <th>3</th>\n",
              "      <td>23</td>\n",
              "      <td>16</td>\n",
              "      <td>77</td>\n",
              "    </tr>\n",
              "    <tr>\n",
              "      <th>4</th>\n",
              "      <td>31</td>\n",
              "      <td>17</td>\n",
              "      <td>40</td>\n",
              "    </tr>\n",
              "  </tbody>\n",
              "</table>\n",
              "</div>"
            ],
            "text/plain": [
              "   Age  Annual Income (k$)  Spending Score (1-100)\n",
              "0   19                  15                      39\n",
              "1   21                  15                      81\n",
              "2   20                  16                       6\n",
              "3   23                  16                      77\n",
              "4   31                  17                      40"
            ]
          },
          "metadata": {
            "tags": []
          },
          "execution_count": 10
        }
      ]
    },
    {
      "cell_type": "code",
      "metadata": {
        "id": "sodrx7Kk554Z",
        "colab_type": "code",
        "colab": {}
      },
      "source": [
        "# Pré processamento\n",
        "\n",
        "# Escala\n",
        "scaler = StandardScaler()\n",
        "X_scaled = scaler.fit_transform(X) \n",
        "\n",
        "# Normalização\n",
        "X_normalized = normalize(X_scaled)"
      ],
      "execution_count": 0,
      "outputs": []
    },
    {
      "cell_type": "code",
      "metadata": {
        "id": "kOWCl4Sc6BOF",
        "colab_type": "code",
        "outputId": "2150f2b8-f985-4f88-9197-1d48933a7fb7",
        "colab": {
          "base_uri": "https://localhost:8080/",
          "height": 197
        }
      },
      "source": [
        "# Carregando no pandas\n",
        "\n",
        "X_normalized = pd.DataFrame(X_normalized) \n",
        "X_normalized.columns = X.columns \n",
        "X_normalized.head() "
      ],
      "execution_count": 12,
      "outputs": [
        {
          "output_type": "execute_result",
          "data": {
            "text/html": [
              "<div>\n",
              "<style scoped>\n",
              "    .dataframe tbody tr th:only-of-type {\n",
              "        vertical-align: middle;\n",
              "    }\n",
              "\n",
              "    .dataframe tbody tr th {\n",
              "        vertical-align: top;\n",
              "    }\n",
              "\n",
              "    .dataframe thead th {\n",
              "        text-align: right;\n",
              "    }\n",
              "</style>\n",
              "<table border=\"1\" class=\"dataframe\">\n",
              "  <thead>\n",
              "    <tr style=\"text-align: right;\">\n",
              "      <th></th>\n",
              "      <th>Age</th>\n",
              "      <th>Annual Income (k$)</th>\n",
              "      <th>Spending Score (1-100)</th>\n",
              "    </tr>\n",
              "  </thead>\n",
              "  <tbody>\n",
              "    <tr>\n",
              "      <th>0</th>\n",
              "      <td>-0.622173</td>\n",
              "      <td>-0.759499</td>\n",
              "      <td>-0.189897</td>\n",
              "    </tr>\n",
              "    <tr>\n",
              "      <th>1</th>\n",
              "      <td>-0.518894</td>\n",
              "      <td>-0.704396</td>\n",
              "      <td>0.484330</td>\n",
              "    </tr>\n",
              "    <tr>\n",
              "      <th>2</th>\n",
              "      <td>-0.488556</td>\n",
              "      <td>-0.614244</td>\n",
              "      <td>-0.619691</td>\n",
              "    </tr>\n",
              "    <tr>\n",
              "      <th>3</th>\n",
              "      <td>-0.495541</td>\n",
              "      <td>-0.740949</td>\n",
              "      <td>0.453247</td>\n",
              "    </tr>\n",
              "    <tr>\n",
              "      <th>4</th>\n",
              "      <td>-0.313049</td>\n",
              "      <td>-0.923896</td>\n",
              "      <td>-0.220036</td>\n",
              "    </tr>\n",
              "  </tbody>\n",
              "</table>\n",
              "</div>"
            ],
            "text/plain": [
              "        Age  Annual Income (k$)  Spending Score (1-100)\n",
              "0 -0.622173           -0.759499               -0.189897\n",
              "1 -0.518894           -0.704396                0.484330\n",
              "2 -0.488556           -0.614244               -0.619691\n",
              "3 -0.495541           -0.740949                0.453247\n",
              "4 -0.313049           -0.923896               -0.220036"
            ]
          },
          "metadata": {
            "tags": []
          },
          "execution_count": 12
        }
      ]
    },
    {
      "cell_type": "markdown",
      "metadata": {
        "id": "7AieI5If6Nx0",
        "colab_type": "text"
      },
      "source": [
        "## Algoritmos de agrupamento de dados\n",
        "\n",
        "Foram escolhidos os algoritmos:\n",
        "\n",
        "1.   **Kmeans**\n",
        "2.   **Spectral Clustering**\n",
        "\n"
      ]
    },
    {
      "cell_type": "markdown",
      "metadata": {
        "id": "f3HypI-z6mnR",
        "colab_type": "text"
      },
      "source": [
        "## K means\n",
        "\n",
        "O agrupamento K-means é um dos algoritmos de aprendizado de máquina não supervisionados mais simples e populares. O objetivo do K-means é simples: agrupar os pontos de dados semelhantes e descobrir padrões existentes. Para isso, o K-means procura um número fixo (k) de clusters em um conjunto de dados.\n",
        "\n",
        "o algoritmo K-means identifica o número k de centróides e, em seguida, aloca todos os pontos de dados para o cluster mais próximo, mantendo os centróides (local imaginário ou real que representa o centro do cluster) menores possíveis.\n",
        "Em outras palavras, cada ponto de dados é alocado para cada um dos clusters, reduzindo a soma dos quadrados no cluster. O \"means\" do nome se refere à média dos dados, isto é, encontrar o centróide.\n",
        "\n",
        "Para processar os dados de aprendizado, o algoritmo começa com um primeiro grupo de centróides selecionados aleatoriamente, que são usados como pontos de partida para cada cluster e, em seguida, executa cálculos iterativos (repetitivos) para otimizar as posições dos centróides. Ele interrompe a criação e otimização de clusters quando:  com base nas features fornecidas.\n",
        "\n",
        "* Os centróides se estabilizaram - não há alteração em seus valores porque o cluster foi bem-sucedido.\n",
        "* O número definido de iterações foi alcançado.\n",
        "\n",
        "\n",
        "### Plano de execução:\n",
        "\n",
        "Variar os parâmetros, observando a melhor confuguração de parâmetros para este dataset:\n",
        "\n",
        "\n",
        "*  n_clusters\n",
        "*  algorithm\n",
        "*  n_init\n",
        "*  max_iter\n",
        "\n"
      ]
    },
    {
      "cell_type": "markdown",
      "metadata": {
        "id": "K9Mp4J6Y61ao",
        "colab_type": "text"
      },
      "source": [
        "## Agglomerative Clustering\n",
        "\n",
        "O Agglomerative Clustering é o tipo mais comum de agrupamento hierárquico usado para agrupar objetos em clusters com base em sua similaridade. O agrupamento hierárquico baseia-se na ideia central de que os objetos estão mais relacionados a objetos próximos do que a objetos mais distantes. O algoritmo utiliza uma abordagem \"bottom-up\". Ou seja, cada objeto é inicialmente considerado como um cluster de elemento único (folha). Em cada etapa do algoritmo, os dois clusters mais semelhantes são combinados em um novo cluster maior. Este procedimento é refeito até que todos os pontos sejam membros de apenas um único grande cluster (raiz).\n",
        "\n",
        "![alt text](https://www.datanovia.com/en/wp-content/uploads/dn-tutorials/003-hierarchical-clustering-in-r/images/hierarchical-clustering-agnes-diana.png))\n",
        "\n",
        "O resultado é uma representação baseada em árvore dos objetos, chamada dendrograma.\n",
        "\n",
        "![alt text](https://support.minitab.com/en-us/minitab/19/media/generated-content/images/cluster_obs_dendrogram_with_final_partition_glove_testers.png)\n",
        "\n",
        "Um parâmetro exclusivo deste tipo de algoritmo é o linkage, que determina qual distância usar entre os conjuntos de observação. Em outras palavras, o algoritmo irá reunir os pares de cluster que minimizam esse critério. Algumas possibilidades deste parâmetro são:\n",
        "\n",
        "*   Ward: minimiza a variação dos clusters que estão sendo mesclados;\n",
        "*   Average: usa a média das distâncias de cada observação dos dois conjuntos;\n",
        "*   Complete ou maximum linkage: usa as distâncias máximas entre todas as observações dos dois conjuntos;\n",
        "*   Single: usa o mínimo das distâncias entre todas as observações dos dois conjuntos.\n",
        "\n",
        "### Plano de execução:\n",
        "\n",
        "Variar os parâmetros, observando a melhor confuguração de parâmetros para este dataset:\n",
        "\n",
        "\n",
        "* n_clusters\n",
        "* linkage\n",
        "* affinity\n",
        "\n"
      ]
    },
    {
      "cell_type": "markdown",
      "metadata": {
        "id": "drIcztls7dWR",
        "colab_type": "text"
      },
      "source": [
        "## Medidas de avaliação de agrupamento de dados\n",
        "\n",
        "Foram escolhidos as medidas:\n",
        "\n",
        "1.   **Silhueta**\n",
        "2.   **Calinski Harabasz score**"
      ]
    },
    {
      "cell_type": "markdown",
      "metadata": {
        "id": "tZxDOeeF8Zli",
        "colab_type": "text"
      },
      "source": [
        "## Silhueta (https://scikit-learn.org/stable/modules/generated/sklearn.metrics.silhouette_score.html)\n",
        "\n",
        "Essa métrica avalia a qualidade das soluções com base na proximidade entre os objetos de determinado grupo e na distância desses objetos ao grupo mais próximo. O silhouette_score é calculado  usando a distância média intra-grupos (a) e a distância média do grupo mais próximo (b) para cada amostra. O silhouette_score para uma amostra é (b - a) / max (a, b). Portanto, esta métrica, por ser calculada para cada objeto, permite identificar se o objeto está alocado ao grupo mais adequado.\n",
        "\n",
        "Valores positivos de silhueta indicam que o objeto está bem localizado em seu grupo, enquanto valores negativos indicam que o objeto está mais próximo de outro(s) grupo(s). Portanto, conclui-se que o melhor valor de silhueta é 1 e o pior valor é -1. Valores próximos a 0 indicam grupos sobrepostos. Valores negativos geralmente indicam que uma amostra foi atribuída ao grupo errado.\n",
        "\n",
        "Foram utilizadas duas funções do pacote sklearn.metrics, denominadas **silhouette_score** (que retorna o coeficiente médio da silhueta em todas as amostras) e **silhouette_samples** (que retorna uma lista com os valores de silhueta para cada amostra)."
      ]
    },
    {
      "cell_type": "markdown",
      "metadata": {
        "id": "XRkTf6Pj8zeC",
        "colab_type": "text"
      },
      "source": [
        "## Calinski Harabasz score (https://scikit-learn.org/stable/modules/clustering.html#calinski-harabasz-index)\n",
        "\n",
        "Essa métrica foi escolhida por eliminação, uma vez que a grande maioria das métricas exige um conhecimento a priori do grupo a que cada amostra pertence. \n",
        "\n",
        "Essa métrica também é conhecida como critério de razão de variância. A pontuação é definida como a razão entre a dispersão dentro do grupo e a dispersão entre diferentes grupos.\n",
        "\n",
        "Recebe como parâmetros X (lista de pontos de dados de dimensão n_features) e labels (rótulos previstos para cada amostra), retornando o score de Calinski Harabasz.\n",
        "\n",
        "As principais vantagens são:\n",
        "\n",
        "\n",
        "*   A pontuação é maior quando os grupos são densos e bem separados, o que se refere a um conceito padrão de grupos (clusters).\n",
        "*   A pontuação é rápida de calcular\n",
        "\n",
        "A principal desvantagem é:\n",
        "\n",
        "\n",
        "*   O score de Calinski-Harabasz é geralmente mais alto para clusters convexos do que outros conceitos de clusters, como clusters baseados em densidade como os obtidos através do DBSCAN.\n",
        "\n",
        "\n",
        "\n"
      ]
    },
    {
      "cell_type": "markdown",
      "metadata": {
        "id": "V7Ta5vWgSVDh",
        "colab_type": "text"
      },
      "source": [
        "## K-Means"
      ]
    },
    {
      "cell_type": "code",
      "metadata": {
        "id": "QoFjgQd-RSz7",
        "colab_type": "code",
        "colab": {}
      },
      "source": [
        "from sklearn.cluster import KMeans\n",
        "from sklearn.metrics import silhouette_score, calinski_harabasz_score"
      ],
      "execution_count": 0,
      "outputs": []
    },
    {
      "cell_type": "markdown",
      "metadata": {
        "id": "6vR8VdjksQbZ",
        "colab_type": "text"
      },
      "source": [
        "### Configuração com parâmetros default"
      ]
    },
    {
      "cell_type": "code",
      "metadata": {
        "id": "9t3wi0kzsPUk",
        "colab_type": "code",
        "outputId": "26bd1f3b-38d9-4e32-bc74-c5b906220948",
        "colab": {
          "base_uri": "https://localhost:8080/",
          "height": 150
        }
      },
      "source": [
        "kmeans_model = KMeans().fit(X_normalized)\n",
        "labels = kmeans_model.labels_\n",
        "print(labels)\n",
        "centers = kmeans_model.cluster_centers_\n",
        "silhouette = silhouette_score(X_normalized, labels, metric='euclidean')\n",
        "calinski = calinski_harabasz_score(X_normalized, labels)\n",
        "print(\"Silhueta = {}\".format(silhouette))\n",
        "print(\"Calinski Harabasz = {}\".format(calinski))"
      ],
      "execution_count": 14,
      "outputs": [
        {
          "output_type": "stream",
          "text": [
            "[6 0 6 0 6 0 6 0 4 0 4 0 4 0 6 0 6 0 4 0 6 0 4 0 4 0 4 0 6 0 4 0 4 0 4 0 4\n",
            " 0 6 0 4 0 4 0 4 0 4 6 6 6 4 0 0 2 4 4 4 2 5 4 2 5 2 2 2 5 4 2 5 6 2 4 2 2\n",
            " 2 5 2 4 5 4 2 0 2 4 5 2 2 5 0 2 2 5 2 7 5 5 2 5 2 5 5 2 2 5 2 5 2 2 2 2 2\n",
            " 5 1 5 5 5 2 2 2 2 5 1 3 3 1 3 7 3 7 3 7 3 1 3 1 3 7 3 1 3 7 3 1 3 1 3 7 3\n",
            " 1 3 7 3 7 3 7 3 1 3 1 3 7 3 1 3 7 3 7 3 1 3 7 3 1 3 7 3 7 3 7 3 1 3 7 3 7\n",
            " 3 7 3 7 3 1 3 1 3 7 3 7 3 1 3]\n",
            "Silhueta = 0.5012292219544692\n",
            "Calinski Harabasz = 231.40708912592\n"
          ],
          "name": "stdout"
        }
      ]
    },
    {
      "cell_type": "markdown",
      "metadata": {
        "id": "XraNqpvXSNfc",
        "colab_type": "text"
      },
      "source": [
        "### Para n_clusters variável\n",
        "\n",
        "Verifica-se que o melhor valor para **n_clusters = 6**"
      ]
    },
    {
      "cell_type": "code",
      "metadata": {
        "id": "2IAqIQKVQtZv",
        "colab_type": "code",
        "outputId": "ede77663-20a9-4bc6-a3ee-119ae0db40db",
        "colab": {
          "base_uri": "https://localhost:8080/",
          "height": 501
        }
      },
      "source": [
        "# https://scikit-learn.org/stable/modules/generated/sklearn.cluster.KMeans.html\n",
        "\n",
        "range_n_clusters = list(range(2,11))\n",
        "\n",
        "silhouette_list = []\n",
        "calinski_list = []\n",
        "for n_clusters in range_n_clusters:\n",
        "  kmeans_model = KMeans(n_clusters=n_clusters).fit(X_normalized)\n",
        "  labels = kmeans_model.labels_\n",
        "  centers = kmeans_model.cluster_centers_\n",
        "  silhouette = silhouette_score(X_normalized, labels, metric='euclidean')\n",
        "  silhouette_list.append(silhouette)\n",
        "  calinski = calinski_harabasz_score(X_normalized, labels)\n",
        "  calinski_list.append(calinski)\n",
        "  print(\"n_clusters = {}, silhouette score = {}, calinski score = {}\".format(n_clusters, silhouette, calinski))\n",
        "\n",
        "plt.show()\n",
        "\n",
        "f = plt.figure(figsize=(15,5))\n",
        "ax1 = f.add_subplot(121)\n",
        "ax2 = f.add_subplot(122)\n",
        "\n",
        "ax1.plot(range_n_clusters, silhouette_list)\n",
        "ax1.set_title(\"silhouette score\")\n",
        "ax1.set_xlabel(\"n_clusters\")\n",
        "ax1.set_ylabel(\"silhouette\")\n",
        "\n",
        "ax2.plot(range_n_clusters, calinski_list)\n",
        "ax2.set_title(\"calinski score\")\n",
        "ax2.set_xlabel(\"n_clusters\")\n",
        "ax2.set_ylabel(\"calinski score\")\n",
        "\n",
        "plt.show()"
      ],
      "execution_count": 15,
      "outputs": [
        {
          "output_type": "stream",
          "text": [
            "n_clusters = 2, silhouette score = 0.3970829332731213, calinski score = 137.27973560720616\n",
            "n_clusters = 3, silhouette score = 0.42642708587300826, calinski score = 135.12839022122316\n",
            "n_clusters = 4, silhouette score = 0.4975810518351669, calinski score = 187.91752926730703\n",
            "n_clusters = 5, silhouette score = 0.5040459505396213, calinski score = 200.5177417600994\n",
            "n_clusters = 6, silhouette score = 0.5233211900388421, calinski score = 229.1653572525898\n",
            "n_clusters = 7, silhouette score = 0.504078876316252, calinski score = 225.8013601277531\n",
            "n_clusters = 8, silhouette score = 0.5024763794819485, calinski score = 229.04191986436084\n",
            "n_clusters = 9, silhouette score = 0.5088277524107903, calinski score = 229.86613608478405\n",
            "n_clusters = 10, silhouette score = 0.4677302529863552, calinski score = 224.5569087023689\n"
          ],
          "name": "stdout"
        },
        {
          "output_type": "display_data",
          "data": {
            "image/png": "[encoded data removed]",
            "text/plain": [
              "<Figure size 1080x360 with 2 Axes>"
            ]
          },
          "metadata": {
            "tags": []
          }
        }
      ]
    },
    {
      "cell_type": "markdown",
      "metadata": {
        "id": "JkbjJrTRjUZi",
        "colab_type": "text"
      },
      "source": [
        "### Variando n_clusters e algorithm\n",
        "\n",
        "algorithm : “auto”, “full” or “elkan”, default=”auto” <br>\n",
        "K-means algorithm to use. The classical EM-style algorithm is “full”. The “elkan” variation is more efficient by using the triangle inequality, but currently doesn’t support sparse data. “auto” chooses “elkan” for dense data and “full” for sparse data.\n",
        "\n",
        "Verifica-se que o resultado mais confiável é n_clusters=6, que não apresenta mudança de resultados conforme muda o algorithm para o mesmo valor de n_clusters. Valores maiores como n_clusters={8, 9, 10} apresentam maiores resultados isolados, não vinculados ao mesmo algoritmo usado. Portanto, para n_clusters=6, a variação do algoritmo não afeta a qualidade do agrupamento de dados."
      ]
    },
    {
      "cell_type": "code",
      "metadata": {
        "id": "O-9UIsXvjSup",
        "colab_type": "code",
        "outputId": "62a0329a-3371-4795-85a1-208744fcae22",
        "colab": {
          "base_uri": "https://localhost:8080/",
          "height": 466
        }
      },
      "source": [
        "range_n_clusters = list(range(2,11))\n",
        "algorithm_types = ['auto', 'full', 'elkan']\n",
        "\n",
        "for n_clusters in range_n_clusters:\n",
        "  for algorithm in algorithm_types:\n",
        "    kmeans_model = KMeans(n_clusters=n_clusters, algorithm=algorithm).fit(X_normalized)\n",
        "    labels = kmeans_model.labels_\n",
        "    centers = kmeans_model.cluster_centers_\n",
        "    silhouette = silhouette_score(X_normalized, labels, metric='euclidean')\n",
        "    calinski = calinski_harabasz_score(X_normalized, labels)\n",
        "    print(\"n_clusters = {}, algorithm = {}, silhouette score = {}, calinski score = {}\".format(n_clusters, algorithm, silhouette, calinski))"
      ],
      "execution_count": 0,
      "outputs": [
        {
          "output_type": "stream",
          "text": [
            "n_clusters = 2, algirithm = auto, silhouette score = 0.3970829332731213, calinski score = 137.27973560720616\n",
            "n_clusters = 2, algirithm = full, silhouette score = 0.3970829332731213, calinski score = 137.27973560720616\n",
            "n_clusters = 2, algirithm = elkan, silhouette score = 0.3970829332731213, calinski score = 137.27973560720616\n",
            "n_clusters = 3, algirithm = auto, silhouette score = 0.4268579060775028, calinski score = 135.18088112308757\n",
            "n_clusters = 3, algirithm = full, silhouette score = 0.4288310287146754, calinski score = 135.19489695097553\n",
            "n_clusters = 3, algirithm = elkan, silhouette score = 0.42321367431722834, calinski score = 134.68977813313148\n",
            "n_clusters = 4, algirithm = auto, silhouette score = 0.49759084723578584, calinski score = 187.94947121323574\n",
            "n_clusters = 4, algirithm = full, silhouette score = 0.49759084723578584, calinski score = 187.94947121323574\n",
            "n_clusters = 4, algirithm = elkan, silhouette score = 0.4979111767703462, calinski score = 187.8990299077968\n",
            "n_clusters = 5, algirithm = auto, silhouette score = 0.5040459505396213, calinski score = 200.51774176009943\n",
            "n_clusters = 5, algirithm = full, silhouette score = 0.5040459505396213, calinski score = 200.51774176009943\n",
            "n_clusters = 5, algirithm = elkan, silhouette score = 0.5040459505396213, calinski score = 200.5177417600994\n",
            "n_clusters = 6, algirithm = auto, silhouette score = 0.5263208102361745, calinski score = 230.17498143949626\n",
            "n_clusters = 6, algirithm = full, silhouette score = 0.5263208102361745, calinski score = 230.17498143949632\n",
            "n_clusters = 6, algirithm = elkan, silhouette score = 0.5263208102361745, calinski score = 230.17498143949632\n",
            "n_clusters = 7, algirithm = auto, silhouette score = 0.5210690630197259, calinski score = 225.17036365160587\n",
            "n_clusters = 7, algirithm = full, silhouette score = 0.504078876316252, calinski score = 225.8013601277531\n",
            "n_clusters = 7, algirithm = elkan, silhouette score = 0.522964148224887, calinski score = 225.81127387861798\n",
            "n_clusters = 8, algirithm = auto, silhouette score = 0.507847423591032, calinski score = 232.8762873499491\n",
            "n_clusters = 8, algirithm = full, silhouette score = 0.5079131011787082, calinski score = 228.88207648022228\n",
            "n_clusters = 8, algirithm = elkan, silhouette score = 0.507847423591032, calinski score = 232.87628734994917\n",
            "n_clusters = 9, algirithm = auto, silhouette score = 0.5039562229363245, calinski score = 226.27793760290766\n",
            "n_clusters = 9, algirithm = full, silhouette score = 0.5115055832869806, calinski score = 231.773821166945\n",
            "n_clusters = 9, algirithm = elkan, silhouette score = 0.5042340561862502, calinski score = 229.75776440213724\n",
            "n_clusters = 10, algirithm = auto, silhouette score = 0.46745074117719776, calinski score = 232.54159188862238\n",
            "n_clusters = 10, algirithm = full, silhouette score = 0.4217412833217248, calinski score = 222.0864804594555\n",
            "n_clusters = 10, algirithm = elkan, silhouette score = 0.46024668769383453, calinski score = 230.2992155499642\n"
          ],
          "name": "stdout"
        }
      ]
    },
    {
      "cell_type": "markdown",
      "metadata": {
        "id": "h2qZHRkZltEy",
        "colab_type": "text"
      },
      "source": [
        "### Fixando n_clusters=6 e variando n_init de 2 a 50 (de 2 em 2)\n",
        "\n",
        "n_init : int, default: 10 <br>\n",
        "Number of time the k-means algorithm will be run with different centroid seeds. The final results will be the best output of n_init consecutive runs in terms of inertia.\n",
        "\n",
        "Verificamos que entre 8 e 10 (valor default) do parâmetro n_init, não há variação significativa em ambos os scores."
      ]
    },
    {
      "cell_type": "code",
      "metadata": {
        "id": "U-FPbon0ne_h",
        "colab_type": "code",
        "outputId": "be495ca4-db4f-4cc8-b5cb-8cc113368b26",
        "colab": {
          "base_uri": "https://localhost:8080/",
          "height": 767
        }
      },
      "source": [
        "range_n_init = list(range(2, 51, 2))\n",
        "\n",
        "silhouette_list = []\n",
        "calinski_list = []\n",
        "for n_init in range_n_init:\n",
        "    kmeans_model = KMeans(n_clusters=6, n_init=n_init).fit(X_normalized)\n",
        "    labels = kmeans_model.labels_\n",
        "    centers = kmeans_model.cluster_centers_\n",
        "    silhouette = silhouette_score(X_normalized, labels, metric='euclidean')\n",
        "    silhouette_list.append(silhouette)\n",
        "    calinski = calinski_harabasz_score(X_normalized, labels)\n",
        "    calinski_list.append(calinski)\n",
        "    print(\"n_init = {}, silhouette score = {}, calinski score = {}\".format(n_init, silhouette, calinski))\n",
        "\n",
        "f = plt.figure(figsize=(15,5))\n",
        "ax1 = f.add_subplot(121)\n",
        "ax2 = f.add_subplot(122)\n",
        "\n",
        "ax1.plot(range_n_init, silhouette_list)\n",
        "ax1.set_title(\"silhouette score\")\n",
        "ax1.set_xlabel(\"n_init\")\n",
        "ax1.set_ylabel(\"silhouette\")\n",
        "\n",
        "ax2.plot(range_n_init, calinski_list)\n",
        "ax2.set_title(\"calinski score\")\n",
        "ax2.set_xlabel(\"n_init\")\n",
        "ax2.set_ylabel(\"calinski score\")\n",
        "\n",
        "plt.show()"
      ],
      "execution_count": 19,
      "outputs": [
        {
          "output_type": "stream",
          "text": [
            "n_init = 2, silhouette score = 0.5263208102361745, calinski score = 230.17498143949632\n",
            "n_init = 4, silhouette score = 0.5263208102361745, calinski score = 230.17498143949632\n",
            "n_init = 6, silhouette score = 0.5233211900388421, calinski score = 229.1653572525898\n",
            "n_init = 8, silhouette score = 0.5263208102361745, calinski score = 230.17498143949635\n",
            "n_init = 10, silhouette score = 0.5263208102361745, calinski score = 230.17498143949626\n",
            "n_init = 12, silhouette score = 0.5263208102361745, calinski score = 230.17498143949632\n",
            "n_init = 14, silhouette score = 0.5263208102361745, calinski score = 230.17498143949632\n",
            "n_init = 16, silhouette score = 0.5263208102361745, calinski score = 230.17498143949626\n",
            "n_init = 18, silhouette score = 0.5263208102361745, calinski score = 230.17498143949626\n",
            "n_init = 20, silhouette score = 0.5263208102361745, calinski score = 230.17498143949635\n",
            "n_init = 22, silhouette score = 0.5263208102361745, calinski score = 230.17498143949632\n",
            "n_init = 24, silhouette score = 0.5263208102361745, calinski score = 230.17498143949632\n",
            "n_init = 26, silhouette score = 0.5263208102361745, calinski score = 230.17498143949632\n",
            "n_init = 28, silhouette score = 0.5263208102361745, calinski score = 230.17498143949626\n",
            "n_init = 30, silhouette score = 0.5263208102361745, calinski score = 230.17498143949632\n",
            "n_init = 32, silhouette score = 0.5263208102361745, calinski score = 230.17498143949632\n",
            "n_init = 34, silhouette score = 0.5263208102361745, calinski score = 230.17498143949632\n",
            "n_init = 36, silhouette score = 0.5263208102361745, calinski score = 230.17498143949632\n",
            "n_init = 38, silhouette score = 0.5263208102361745, calinski score = 230.17498143949626\n",
            "n_init = 40, silhouette score = 0.5263208102361745, calinski score = 230.17498143949632\n",
            "n_init = 42, silhouette score = 0.5263208102361745, calinski score = 230.17498143949632\n",
            "n_init = 44, silhouette score = 0.5263208102361745, calinski score = 230.17498143949632\n",
            "n_init = 46, silhouette score = 0.5263208102361745, calinski score = 230.17498143949632\n",
            "n_init = 48, silhouette score = 0.5263208102361745, calinski score = 230.17498143949632\n",
            "n_init = 50, silhouette score = 0.5263208102361745, calinski score = 230.17498143949632\n"
          ],
          "name": "stdout"
        },
        {
          "output_type": "display_data",
          "data": {
            "image/png": "[encoded data removed]",
            "text/plain": [
              "<Figure size 1080x360 with 2 Axes>"
            ]
          },
          "metadata": {
            "tags": []
          }
        }
      ]
    },
    {
      "cell_type": "markdown",
      "metadata": {
        "id": "CvhiZBjypS4-",
        "colab_type": "text"
      },
      "source": [
        "### Fixando n_clusters=6 e variando max_iter de 50 a 500 (de 25 em 25)\n",
        "\n",
        "max_iter: int, default: 300 <br>\n",
        "Maximum number of iterations of the k-means algorithm for a single run\n",
        "\n",
        "Verificamos que nenhum valor de max_iter alterou os scores, de modo que o valor default de 300 pode ser reduzido para 50, reduzindo o poder computacional necessário."
      ]
    },
    {
      "cell_type": "code",
      "metadata": {
        "id": "dGHjrTEEpWCA",
        "colab_type": "code",
        "outputId": "70766fff-ff98-4175-e54a-ac0bbe1b59b3",
        "colab": {
          "base_uri": "https://localhost:8080/",
          "height": 667
        }
      },
      "source": [
        "range_max_iter = list(range(50, 501, 25))\n",
        "\n",
        "silhouette_list = []\n",
        "calinski_list = []\n",
        "for max_iter in range_max_iter:\n",
        "    kmeans_model = KMeans(n_clusters=6, max_iter=max_iter).fit(X_normalized)\n",
        "    labels = kmeans_model.labels_\n",
        "    centers = kmeans_model.cluster_centers_\n",
        "    silhouette = silhouette_score(X_normalized, labels, metric='euclidean')\n",
        "    silhouette_list.append(silhouette)\n",
        "    calinski = calinski_harabasz_score(X_normalized, labels)\n",
        "    calinski_list.append(calinski)\n",
        "    print(\"max_iter = {}, silhouette score = {}, calinski score = {}\".format(max_iter, silhouette, calinski))\n",
        "\n",
        "f = plt.figure(figsize=(15,5))\n",
        "ax1 = f.add_subplot(121)\n",
        "ax2 = f.add_subplot(122)\n",
        "\n",
        "ax1.plot(range_max_iter, silhouette_list)\n",
        "ax1.set_title(\"silhouette score\")\n",
        "ax1.set_xlabel(\"max_iter\")\n",
        "ax1.set_ylabel(\"silhouette\")\n",
        "\n",
        "ax2.plot(range_max_iter, calinski_list)\n",
        "ax2.set_title(\"calinski score\")\n",
        "ax2.set_xlabel(\"max_iter\")\n",
        "ax2.set_ylabel(\"calinski score\")\n",
        "\n",
        "plt.show()"
      ],
      "execution_count": 20,
      "outputs": [
        {
          "output_type": "stream",
          "text": [
            "max_iter = 50, silhouette score = 0.5263208102361745, calinski score = 230.17498143949632\n",
            "max_iter = 75, silhouette score = 0.5263208102361745, calinski score = 230.17498143949632\n",
            "max_iter = 100, silhouette score = 0.5263208102361745, calinski score = 230.17498143949632\n",
            "max_iter = 125, silhouette score = 0.5263208102361745, calinski score = 230.17498143949632\n",
            "max_iter = 150, silhouette score = 0.5263208102361745, calinski score = 230.17498143949632\n",
            "max_iter = 175, silhouette score = 0.5263208102361745, calinski score = 230.17498143949632\n",
            "max_iter = 200, silhouette score = 0.5263208102361745, calinski score = 230.17498143949632\n",
            "max_iter = 225, silhouette score = 0.5263208102361745, calinski score = 230.17498143949635\n",
            "max_iter = 250, silhouette score = 0.5263208102361745, calinski score = 230.17498143949632\n",
            "max_iter = 275, silhouette score = 0.5263208102361745, calinski score = 230.17498143949626\n",
            "max_iter = 300, silhouette score = 0.5263208102361745, calinski score = 230.17498143949632\n",
            "max_iter = 325, silhouette score = 0.5263208102361745, calinski score = 230.17498143949632\n",
            "max_iter = 350, silhouette score = 0.5263208102361745, calinski score = 230.17498143949632\n",
            "max_iter = 375, silhouette score = 0.5263208102361745, calinski score = 230.17498143949632\n",
            "max_iter = 400, silhouette score = 0.5263208102361745, calinski score = 230.17498143949632\n",
            "max_iter = 425, silhouette score = 0.5263208102361745, calinski score = 230.17498143949632\n",
            "max_iter = 450, silhouette score = 0.5263208102361745, calinski score = 230.17498143949626\n",
            "max_iter = 475, silhouette score = 0.5263208102361745, calinski score = 230.17498143949635\n",
            "max_iter = 500, silhouette score = 0.5263208102361745, calinski score = 230.17498143949635\n"
          ],
          "name": "stdout"
        },
        {
          "output_type": "display_data",
          "data": {
            "image/png": "[encoded data removed]",
            "text/plain": [
              "<Figure size 1080x360 with 2 Axes>"
            ]
          },
          "metadata": {
            "tags": []
          }
        }
      ]
    },
    {
      "cell_type": "markdown",
      "metadata": {
        "id": "Q0d3xxKprYFA",
        "colab_type": "text"
      },
      "source": [
        "### Utilizando a melhor configuração encontrada\n",
        "\n",
        "KMeans(n_clusters=6, n_init=8, max_iter=50)"
      ]
    },
    {
      "cell_type": "code",
      "metadata": {
        "id": "paLkV25eqKzs",
        "colab_type": "code",
        "outputId": "72a15adc-0c6a-430e-f237-63f0128c6330",
        "colab": {
          "base_uri": "https://localhost:8080/",
          "height": 50
        }
      },
      "source": [
        "kmeans_model = KMeans(n_clusters=6, n_init=8, max_iter=50).fit(X_normalized)\n",
        "labels = kmeans_model.labels_\n",
        "centers = kmeans_model.cluster_centers_\n",
        "silhouette = silhouette_score(X_normalized, labels, metric='euclidean')\n",
        "calinski = calinski_harabasz_score(X_normalized, labels)\n",
        "print(\"Silhueta = {}\".format(silhouette))\n",
        "print(\"Calinski Harabasz = {}\".format(calinski))"
      ],
      "execution_count": 26,
      "outputs": [
        {
          "output_type": "stream",
          "text": [
            "Silhueta = 0.5263208102361745\n",
            "Calinski Harabasz = 230.17498143949632\n"
          ],
          "name": "stdout"
        }
      ]
    },
    {
      "cell_type": "code",
      "metadata": {
        "id": "6HBncmk_PhDK",
        "colab_type": "code",
        "outputId": "d5a721fc-01d9-427a-d3c7-426ac745d148",
        "colab": {
          "base_uri": "https://localhost:8080/",
          "height": 475
        }
      },
      "source": [
        "f = plt.figure(figsize=(10,7))\n",
        "\n",
        "colors = plt.cm.Spectral(preds.astype(float) / 6)\n",
        "plt.scatter(X_normalized.iloc[:, 0], X_normalized.iloc[:, 1], marker='.', s=30, lw=0, alpha=0.7,\n",
        "             c=colors)\n",
        "\n",
        "plt.scatter(centers[:, 0], centers[:, 1],\n",
        "            marker='o', c=\"white\", alpha=1, s=200)\n",
        "\n",
        "for i, c in enumerate(centers):\n",
        "    plt.scatter(c[0], c[1], marker='$%d$' % i, alpha=1, s=50)\n",
        "\n",
        "plt.title((\"KMeans clustering on sample data \"\n",
        "             \"with n_clusters = 6, n_init=8, max_iter=50\"),\n",
        "             fontsize=14, fontweight='bold')\n",
        "\n",
        "plt.xlabel(\"Feature space for the 1st feature\")\n",
        "plt.ylabel(\"Feature space for the 2nd feature\")\n"
      ],
      "execution_count": 0,
      "outputs": [
        {
          "output_type": "execute_result",
          "data": {
            "text/plain": [
              "Text(0, 0.5, 'Feature space for the 2nd feature')"
            ]
          },
          "metadata": {
            "tags": []
          },
          "execution_count": 145
        },
        {
          "output_type": "display_data",
          "data": {
            "image/png": "[encoded data removed]",
            "text/plain": [
              "<Figure size 720x504 with 1 Axes>"
            ]
          },
          "metadata": {
            "tags": []
          }
        }
      ]
    },
    {
      "cell_type": "code",
      "metadata": {
        "id": "6zzw2Y4eB3PD",
        "colab_type": "code",
        "colab": {
          "base_uri": "https://localhost:8080/",
          "height": 183
        },
        "outputId": "e752ed6a-ed07-419f-ae70-ba876934753a"
      },
      "source": [
        "labels"
      ],
      "execution_count": 27,
      "outputs": [
        {
          "output_type": "execute_result",
          "data": {
            "text/plain": [
              "array([4, 4, 5, 4, 4, 4, 5, 4, 5, 4, 5, 4, 5, 4, 5, 4, 5, 4, 5, 4, 5, 4,\n",
              "       5, 4, 5, 4, 5, 4, 5, 4, 5, 4, 5, 4, 5, 4, 5, 4, 5, 4, 1, 4, 5, 4,\n",
              "       5, 4, 1, 4, 4, 4, 1, 4, 4, 1, 1, 5, 1, 1, 4, 1, 1, 0, 1, 1, 1, 0,\n",
              "       5, 1, 0, 4, 1, 5, 1, 1, 1, 0, 1, 5, 0, 1, 1, 4, 1, 1, 0, 1, 1, 0,\n",
              "       4, 1, 1, 0, 1, 3, 0, 0, 1, 0, 1, 0, 0, 1, 1, 0, 1, 0, 1, 1, 1, 1,\n",
              "       1, 0, 3, 0, 0, 0, 1, 1, 1, 1, 0, 3, 2, 2, 0, 2, 3, 2, 3, 2, 3, 2,\n",
              "       0, 2, 0, 2, 3, 2, 0, 2, 3, 2, 0, 2, 3, 2, 3, 2, 3, 2, 3, 2, 3, 2,\n",
              "       3, 2, 3, 2, 3, 2, 3, 2, 0, 2, 3, 2, 3, 2, 3, 2, 3, 2, 3, 2, 3, 2,\n",
              "       3, 2, 3, 2, 3, 2, 3, 2, 3, 2, 3, 2, 3, 2, 3, 2, 3, 2, 3, 2, 3, 2,\n",
              "       3, 2], dtype=int32)"
            ]
          },
          "metadata": {
            "tags": []
          },
          "execution_count": 27
        }
      ]
    },
    {
      "cell_type": "code",
      "metadata": {
        "id": "krMXcEyOCCPn",
        "colab_type": "code",
        "colab": {
          "base_uri": "https://localhost:8080/",
          "height": 1000
        },
        "outputId": "25bfcc23-f097-4df0-a221-e671c0dca2f3"
      },
      "source": [
        "X[:]"
      ],
      "execution_count": 30,
      "outputs": [
        {
          "output_type": "execute_result",
          "data": {
            "text/html": [
              "<div>\n",
              "<style scoped>\n",
              "    .dataframe tbody tr th:only-of-type {\n",
              "        vertical-align: middle;\n",
              "    }\n",
              "\n",
              "    .dataframe tbody tr th {\n",
              "        vertical-align: top;\n",
              "    }\n",
              "\n",
              "    .dataframe thead th {\n",
              "        text-align: right;\n",
              "    }\n",
              "</style>\n",
              "<table border=\"1\" class=\"dataframe\">\n",
              "  <thead>\n",
              "    <tr style=\"text-align: right;\">\n",
              "      <th></th>\n",
              "      <th>Age</th>\n",
              "      <th>Annual Income (k$)</th>\n",
              "      <th>Spending Score (1-100)</th>\n",
              "    </tr>\n",
              "  </thead>\n",
              "  <tbody>\n",
              "    <tr>\n",
              "      <th>0</th>\n",
              "      <td>19</td>\n",
              "      <td>15</td>\n",
              "      <td>39</td>\n",
              "    </tr>\n",
              "    <tr>\n",
              "      <th>1</th>\n",
              "      <td>21</td>\n",
              "      <td>15</td>\n",
              "      <td>81</td>\n",
              "    </tr>\n",
              "    <tr>\n",
              "      <th>2</th>\n",
              "      <td>20</td>\n",
              "      <td>16</td>\n",
              "      <td>6</td>\n",
              "    </tr>\n",
              "    <tr>\n",
              "      <th>3</th>\n",
              "      <td>23</td>\n",
              "      <td>16</td>\n",
              "      <td>77</td>\n",
              "    </tr>\n",
              "    <tr>\n",
              "      <th>4</th>\n",
              "      <td>31</td>\n",
              "      <td>17</td>\n",
              "      <td>40</td>\n",
              "    </tr>\n",
              "    <tr>\n",
              "      <th>5</th>\n",
              "      <td>22</td>\n",
              "      <td>17</td>\n",
              "      <td>76</td>\n",
              "    </tr>\n",
              "    <tr>\n",
              "      <th>6</th>\n",
              "      <td>35</td>\n",
              "      <td>18</td>\n",
              "      <td>6</td>\n",
              "    </tr>\n",
              "    <tr>\n",
              "      <th>7</th>\n",
              "      <td>23</td>\n",
              "      <td>18</td>\n",
              "      <td>94</td>\n",
              "    </tr>\n",
              "    <tr>\n",
              "      <th>8</th>\n",
              "      <td>64</td>\n",
              "      <td>19</td>\n",
              "      <td>3</td>\n",
              "    </tr>\n",
              "    <tr>\n",
              "      <th>9</th>\n",
              "      <td>30</td>\n",
              "      <td>19</td>\n",
              "      <td>72</td>\n",
              "    </tr>\n",
              "    <tr>\n",
              "      <th>10</th>\n",
              "      <td>67</td>\n",
              "      <td>19</td>\n",
              "      <td>14</td>\n",
              "    </tr>\n",
              "    <tr>\n",
              "      <th>11</th>\n",
              "      <td>35</td>\n",
              "      <td>19</td>\n",
              "      <td>99</td>\n",
              "    </tr>\n",
              "    <tr>\n",
              "      <th>12</th>\n",
              "      <td>58</td>\n",
              "      <td>20</td>\n",
              "      <td>15</td>\n",
              "    </tr>\n",
              "    <tr>\n",
              "      <th>13</th>\n",
              "      <td>24</td>\n",
              "      <td>20</td>\n",
              "      <td>77</td>\n",
              "    </tr>\n",
              "    <tr>\n",
              "      <th>14</th>\n",
              "      <td>37</td>\n",
              "      <td>20</td>\n",
              "      <td>13</td>\n",
              "    </tr>\n",
              "    <tr>\n",
              "      <th>15</th>\n",
              "      <td>22</td>\n",
              "      <td>20</td>\n",
              "      <td>79</td>\n",
              "    </tr>\n",
              "    <tr>\n",
              "      <th>16</th>\n",
              "      <td>35</td>\n",
              "      <td>21</td>\n",
              "      <td>35</td>\n",
              "    </tr>\n",
              "    <tr>\n",
              "      <th>17</th>\n",
              "      <td>20</td>\n",
              "      <td>21</td>\n",
              "      <td>66</td>\n",
              "    </tr>\n",
              "    <tr>\n",
              "      <th>18</th>\n",
              "      <td>52</td>\n",
              "      <td>23</td>\n",
              "      <td>29</td>\n",
              "    </tr>\n",
              "    <tr>\n",
              "      <th>19</th>\n",
              "      <td>35</td>\n",
              "      <td>23</td>\n",
              "      <td>98</td>\n",
              "    </tr>\n",
              "    <tr>\n",
              "      <th>20</th>\n",
              "      <td>35</td>\n",
              "      <td>24</td>\n",
              "      <td>35</td>\n",
              "    </tr>\n",
              "    <tr>\n",
              "      <th>21</th>\n",
              "      <td>25</td>\n",
              "      <td>24</td>\n",
              "      <td>73</td>\n",
              "    </tr>\n",
              "    <tr>\n",
              "      <th>22</th>\n",
              "      <td>46</td>\n",
              "      <td>25</td>\n",
              "      <td>5</td>\n",
              "    </tr>\n",
              "    <tr>\n",
              "      <th>23</th>\n",
              "      <td>31</td>\n",
              "      <td>25</td>\n",
              "      <td>73</td>\n",
              "    </tr>\n",
              "    <tr>\n",
              "      <th>24</th>\n",
              "      <td>54</td>\n",
              "      <td>28</td>\n",
              "      <td>14</td>\n",
              "    </tr>\n",
              "    <tr>\n",
              "      <th>25</th>\n",
              "      <td>29</td>\n",
              "      <td>28</td>\n",
              "      <td>82</td>\n",
              "    </tr>\n",
              "    <tr>\n",
              "      <th>26</th>\n",
              "      <td>45</td>\n",
              "      <td>28</td>\n",
              "      <td>32</td>\n",
              "    </tr>\n",
              "    <tr>\n",
              "      <th>27</th>\n",
              "      <td>35</td>\n",
              "      <td>28</td>\n",
              "      <td>61</td>\n",
              "    </tr>\n",
              "    <tr>\n",
              "      <th>28</th>\n",
              "      <td>40</td>\n",
              "      <td>29</td>\n",
              "      <td>31</td>\n",
              "    </tr>\n",
              "    <tr>\n",
              "      <th>29</th>\n",
              "      <td>23</td>\n",
              "      <td>29</td>\n",
              "      <td>87</td>\n",
              "    </tr>\n",
              "    <tr>\n",
              "      <th>...</th>\n",
              "      <td>...</td>\n",
              "      <td>...</td>\n",
              "      <td>...</td>\n",
              "    </tr>\n",
              "    <tr>\n",
              "      <th>170</th>\n",
              "      <td>40</td>\n",
              "      <td>87</td>\n",
              "      <td>13</td>\n",
              "    </tr>\n",
              "    <tr>\n",
              "      <th>171</th>\n",
              "      <td>28</td>\n",
              "      <td>87</td>\n",
              "      <td>75</td>\n",
              "    </tr>\n",
              "    <tr>\n",
              "      <th>172</th>\n",
              "      <td>36</td>\n",
              "      <td>87</td>\n",
              "      <td>10</td>\n",
              "    </tr>\n",
              "    <tr>\n",
              "      <th>173</th>\n",
              "      <td>36</td>\n",
              "      <td>87</td>\n",
              "      <td>92</td>\n",
              "    </tr>\n",
              "    <tr>\n",
              "      <th>174</th>\n",
              "      <td>52</td>\n",
              "      <td>88</td>\n",
              "      <td>13</td>\n",
              "    </tr>\n",
              "    <tr>\n",
              "      <th>175</th>\n",
              "      <td>30</td>\n",
              "      <td>88</td>\n",
              "      <td>86</td>\n",
              "    </tr>\n",
              "    <tr>\n",
              "      <th>176</th>\n",
              "      <td>58</td>\n",
              "      <td>88</td>\n",
              "      <td>15</td>\n",
              "    </tr>\n",
              "    <tr>\n",
              "      <th>177</th>\n",
              "      <td>27</td>\n",
              "      <td>88</td>\n",
              "      <td>69</td>\n",
              "    </tr>\n",
              "    <tr>\n",
              "      <th>178</th>\n",
              "      <td>59</td>\n",
              "      <td>93</td>\n",
              "      <td>14</td>\n",
              "    </tr>\n",
              "    <tr>\n",
              "      <th>179</th>\n",
              "      <td>35</td>\n",
              "      <td>93</td>\n",
              "      <td>90</td>\n",
              "    </tr>\n",
              "    <tr>\n",
              "      <th>180</th>\n",
              "      <td>37</td>\n",
              "      <td>97</td>\n",
              "      <td>32</td>\n",
              "    </tr>\n",
              "    <tr>\n",
              "      <th>181</th>\n",
              "      <td>32</td>\n",
              "      <td>97</td>\n",
              "      <td>86</td>\n",
              "    </tr>\n",
              "    <tr>\n",
              "      <th>182</th>\n",
              "      <td>46</td>\n",
              "      <td>98</td>\n",
              "      <td>15</td>\n",
              "    </tr>\n",
              "    <tr>\n",
              "      <th>183</th>\n",
              "      <td>29</td>\n",
              "      <td>98</td>\n",
              "      <td>88</td>\n",
              "    </tr>\n",
              "    <tr>\n",
              "      <th>184</th>\n",
              "      <td>41</td>\n",
              "      <td>99</td>\n",
              "      <td>39</td>\n",
              "    </tr>\n",
              "    <tr>\n",
              "      <th>185</th>\n",
              "      <td>30</td>\n",
              "      <td>99</td>\n",
              "      <td>97</td>\n",
              "    </tr>\n",
              "    <tr>\n",
              "      <th>186</th>\n",
              "      <td>54</td>\n",
              "      <td>101</td>\n",
              "      <td>24</td>\n",
              "    </tr>\n",
              "    <tr>\n",
              "      <th>187</th>\n",
              "      <td>28</td>\n",
              "      <td>101</td>\n",
              "      <td>68</td>\n",
              "    </tr>\n",
              "    <tr>\n",
              "      <th>188</th>\n",
              "      <td>41</td>\n",
              "      <td>103</td>\n",
              "      <td>17</td>\n",
              "    </tr>\n",
              "    <tr>\n",
              "      <th>189</th>\n",
              "      <td>36</td>\n",
              "      <td>103</td>\n",
              "      <td>85</td>\n",
              "    </tr>\n",
              "    <tr>\n",
              "      <th>190</th>\n",
              "      <td>34</td>\n",
              "      <td>103</td>\n",
              "      <td>23</td>\n",
              "    </tr>\n",
              "    <tr>\n",
              "      <th>191</th>\n",
              "      <td>32</td>\n",
              "      <td>103</td>\n",
              "      <td>69</td>\n",
              "    </tr>\n",
              "    <tr>\n",
              "      <th>192</th>\n",
              "      <td>33</td>\n",
              "      <td>113</td>\n",
              "      <td>8</td>\n",
              "    </tr>\n",
              "    <tr>\n",
              "      <th>193</th>\n",
              "      <td>38</td>\n",
              "      <td>113</td>\n",
              "      <td>91</td>\n",
              "    </tr>\n",
              "    <tr>\n",
              "      <th>194</th>\n",
              "      <td>47</td>\n",
              "      <td>120</td>\n",
              "      <td>16</td>\n",
              "    </tr>\n",
              "    <tr>\n",
              "      <th>195</th>\n",
              "      <td>35</td>\n",
              "      <td>120</td>\n",
              "      <td>79</td>\n",
              "    </tr>\n",
              "    <tr>\n",
              "      <th>196</th>\n",
              "      <td>45</td>\n",
              "      <td>126</td>\n",
              "      <td>28</td>\n",
              "    </tr>\n",
              "    <tr>\n",
              "      <th>197</th>\n",
              "      <td>32</td>\n",
              "      <td>126</td>\n",
              "      <td>74</td>\n",
              "    </tr>\n",
              "    <tr>\n",
              "      <th>198</th>\n",
              "      <td>32</td>\n",
              "      <td>137</td>\n",
              "      <td>18</td>\n",
              "    </tr>\n",
              "    <tr>\n",
              "      <th>199</th>\n",
              "      <td>30</td>\n",
              "      <td>137</td>\n",
              "      <td>83</td>\n",
              "    </tr>\n",
              "  </tbody>\n",
              "</table>\n",
              "<p>200 rows × 3 columns</p>\n",
              "</div>"
            ],
            "text/plain": [
              "     Age  Annual Income (k$)  Spending Score (1-100)\n",
              "0     19                  15                      39\n",
              "1     21                  15                      81\n",
              "2     20                  16                       6\n",
              "3     23                  16                      77\n",
              "4     31                  17                      40\n",
              "5     22                  17                      76\n",
              "6     35                  18                       6\n",
              "7     23                  18                      94\n",
              "8     64                  19                       3\n",
              "9     30                  19                      72\n",
              "10    67                  19                      14\n",
              "11    35                  19                      99\n",
              "12    58                  20                      15\n",
              "13    24                  20                      77\n",
              "14    37                  20                      13\n",
              "15    22                  20                      79\n",
              "16    35                  21                      35\n",
              "17    20                  21                      66\n",
              "18    52                  23                      29\n",
              "19    35                  23                      98\n",
              "20    35                  24                      35\n",
              "21    25                  24                      73\n",
              "22    46                  25                       5\n",
              "23    31                  25                      73\n",
              "24    54                  28                      14\n",
              "25    29                  28                      82\n",
              "26    45                  28                      32\n",
              "27    35                  28                      61\n",
              "28    40                  29                      31\n",
              "29    23                  29                      87\n",
              "..   ...                 ...                     ...\n",
              "170   40                  87                      13\n",
              "171   28                  87                      75\n",
              "172   36                  87                      10\n",
              "173   36                  87                      92\n",
              "174   52                  88                      13\n",
              "175   30                  88                      86\n",
              "176   58                  88                      15\n",
              "177   27                  88                      69\n",
              "178   59                  93                      14\n",
              "179   35                  93                      90\n",
              "180   37                  97                      32\n",
              "181   32                  97                      86\n",
              "182   46                  98                      15\n",
              "183   29                  98                      88\n",
              "184   41                  99                      39\n",
              "185   30                  99                      97\n",
              "186   54                 101                      24\n",
              "187   28                 101                      68\n",
              "188   41                 103                      17\n",
              "189   36                 103                      85\n",
              "190   34                 103                      23\n",
              "191   32                 103                      69\n",
              "192   33                 113                       8\n",
              "193   38                 113                      91\n",
              "194   47                 120                      16\n",
              "195   35                 120                      79\n",
              "196   45                 126                      28\n",
              "197   32                 126                      74\n",
              "198   32                 137                      18\n",
              "199   30                 137                      83\n",
              "\n",
              "[200 rows x 3 columns]"
            ]
          },
          "metadata": {
            "tags": []
          },
          "execution_count": 30
        }
      ]
    },
    {
      "cell_type": "markdown",
      "metadata": {
        "id": "xQo9RHORXefR",
        "colab_type": "text"
      },
      "source": [
        "## Agglomerative clustering (Agrupamento hierárquico) "
      ]
    },
    {
      "cell_type": "code",
      "metadata": {
        "id": "hQZZQ4GxXd-N",
        "colab_type": "code",
        "colab": {}
      },
      "source": [
        "from sklearn.cluster import AgglomerativeClustering\n",
        "from sklearn.metrics import silhouette_score, calinski_harabasz_score"
      ],
      "execution_count": 0,
      "outputs": []
    },
    {
      "cell_type": "markdown",
      "metadata": {
        "id": "jvLXj3e82-SC",
        "colab_type": "text"
      },
      "source": [
        "### Configuração com parâmetros default"
      ]
    },
    {
      "cell_type": "code",
      "metadata": {
        "id": "YzaTaUT62GEZ",
        "colab_type": "code",
        "outputId": "cb3a7752-bd05-44f0-fb67-a28ab7757fbd",
        "colab": {
          "base_uri": "https://localhost:8080/",
          "height": 150
        }
      },
      "source": [
        "agglo_model = AgglomerativeClustering().fit(X_normalized)\n",
        "labels = agglo_model.labels_\n",
        "print(labels)\n",
        "silhouette = silhouette_score(X_normalized, labels, metric='euclidean')\n",
        "calinski = calinski_harabasz_score(X_normalized, labels)\n",
        "print(\"Silhueta = {}\".format(silhouette))\n",
        "print(\"Calinski Harabasz = {}\".format(calinski))"
      ],
      "execution_count": 32,
      "outputs": [
        {
          "output_type": "stream",
          "text": [
            "[0 1 0 1 0 1 0 1 0 1 0 1 0 1 0 1 0 1 0 1 0 1 0 1 0 1 0 1 0 1 0 1 0 1 0 1 0\n",
            " 1 0 1 0 1 0 1 0 1 0 0 0 0 0 1 1 0 0 0 0 0 1 0 0 1 0 0 0 1 0 0 1 0 0 0 0 0\n",
            " 0 1 0 0 1 0 0 1 0 0 1 0 0 1 1 0 0 1 0 0 1 1 0 1 0 1 1 0 0 1 0 1 0 0 0 0 0\n",
            " 1 0 1 1 1 0 0 0 0 1 0 1 1 0 1 0 1 0 1 0 1 0 1 0 1 0 1 0 1 0 1 0 1 0 1 0 1\n",
            " 0 1 0 1 0 1 0 1 0 1 0 1 0 1 0 1 0 1 0 1 0 1 0 1 0 1 0 1 0 1 0 1 0 1 0 1 0\n",
            " 1 0 1 0 1 0 1 0 1 0 1 0 1 0 1]\n",
            "Silhueta = 0.37625974968686776\n",
            "Calinski Harabasz = 123.5079642478839\n"
          ],
          "name": "stdout"
        }
      ]
    },
    {
      "cell_type": "markdown",
      "metadata": {
        "id": "KFBzHvGb3SWY",
        "colab_type": "text"
      },
      "source": [
        "### Para n_clusters variável\n",
        "\n",
        "n_clusters : int or None, optional (default=2)\n",
        "The number of clusters to find.\n",
        "\n",
        "Verifica-se não há concordância entre os scores com relação ao n_clusters, de modo que é importante testar novos parâmetros juntamente com este!"
      ]
    },
    {
      "cell_type": "code",
      "metadata": {
        "id": "wh6sVdA62xhv",
        "colab_type": "code",
        "outputId": "f7dfb055-f2e6-4271-abbf-65f84c439949",
        "colab": {
          "base_uri": "https://localhost:8080/",
          "height": 501
        }
      },
      "source": [
        "range_n_clusters = list(range(2,11))\n",
        "\n",
        "silhouette_list = []\n",
        "calinski_list = []\n",
        "for n_clusters in range_n_clusters:\n",
        "  agglo_model = AgglomerativeClustering(n_clusters=n_clusters).fit(X_normalized)\n",
        "  labels = agglo_model.labels_\n",
        "  silhouette = silhouette_score(X_normalized, labels, metric='euclidean')\n",
        "  silhouette_list.append(silhouette)\n",
        "  calinski = calinski_harabasz_score(X_normalized, labels)\n",
        "  calinski_list.append(calinski)\n",
        "  print(\"n_clusters = {}, silhouette score = {}, calinski score = {}\".format(n_clusters, silhouette, calinski))\n",
        "\n",
        "f = plt.figure(figsize=(15,5))\n",
        "ax1 = f.add_subplot(121)\n",
        "ax2 = f.add_subplot(122)\n",
        "\n",
        "ax1.plot(range_n_clusters, silhouette_list)\n",
        "ax1.set_title(\"silhouette score\")\n",
        "ax1.set_xlabel(\"n_clusters\")\n",
        "ax1.set_ylabel(\"silhouette\")\n",
        "\n",
        "ax2.plot(range_n_clusters, calinski_list)\n",
        "ax2.set_title(\"calinski score\")\n",
        "ax2.set_xlabel(\"n_clusters\")\n",
        "ax2.set_ylabel(\"calinski score\")\n",
        "\n",
        "plt.show()"
      ],
      "execution_count": 33,
      "outputs": [
        {
          "output_type": "stream",
          "text": [
            "n_clusters = 2, silhouette score = 0.37625974968686776, calinski score = 123.5079642478839\n",
            "n_clusters = 3, silhouette score = 0.39759995727734876, calinski score = 122.50445446254955\n",
            "n_clusters = 4, silhouette score = 0.4547067117897284, calinski score = 147.05831152397798\n",
            "n_clusters = 5, silhouette score = 0.4858411635837739, calinski score = 181.45593214779313\n",
            "n_clusters = 6, silhouette score = 0.5082314409240013, calinski score = 198.1843975737184\n",
            "n_clusters = 7, silhouette score = 0.48664375734144616, calinski score = 202.04451568912208\n",
            "n_clusters = 8, silhouette score = 0.48606340472576975, calinski score = 215.15472420332802\n",
            "n_clusters = 9, silhouette score = 0.49221113062780125, calinski score = 215.37328264377564\n",
            "n_clusters = 10, silhouette score = 0.457184871466987, calinski score = 212.9047192292808\n"
          ],
          "name": "stdout"
        },
        {
          "output_type": "display_data",
          "data": {
            "image/png": "[encoded data removed]",
            "text/plain": [
              "<Figure size 1080x360 with 2 Axes>"
            ]
          },
          "metadata": {
            "tags": []
          }
        }
      ]
    },
    {
      "cell_type": "markdown",
      "metadata": {
        "id": "DEXq4p5N6ZPi",
        "colab_type": "text"
      },
      "source": [
        "### Variando n_clusters e linkage\n",
        "\n",
        "linkage : {“ward”, “complete”, “average”, “single”}, optional (default=”ward”)\n",
        "The algorithm will merge the pairs of cluster that minimize this criterion.\n",
        "\n",
        "A melhor configuração foi: <br>\n",
        "n_clusters = 6, linkage = average, silhouette score = 0.5244504622329711, calinski score = 226.54196268187192"
      ]
    },
    {
      "cell_type": "code",
      "metadata": {
        "id": "kD_SvXeS6d8b",
        "colab_type": "code",
        "outputId": "197229ad-4c85-4c29-da8d-b70e8380163f",
        "colab": {
          "base_uri": "https://localhost:8080/",
          "height": 616
        }
      },
      "source": [
        "range_n_clusters = list(range(2,11))\n",
        "linkage_types = ['ward', 'complete', 'average', 'single']\n",
        "\n",
        "for n_clusters in range_n_clusters:\n",
        "  for linkage in linkage_types:\n",
        "    agglo_model = AgglomerativeClustering(n_clusters=n_clusters, linkage=linkage).fit(X_normalized)\n",
        "    labels = agglo_model.labels_\n",
        "    silhouette = silhouette_score(X_normalized, labels, metric='euclidean')\n",
        "    calinski = calinski_harabasz_score(X_normalized, labels)\n",
        "    print(\"n_clusters = {}, linkage = {}, silhouette score = {}, calinski score = {}\".format(n_clusters, linkage, silhouette, calinski))"
      ],
      "execution_count": 34,
      "outputs": [
        {
          "output_type": "stream",
          "text": [
            "n_clusters = 2, linkage = ward, silhouette score = 0.37625974968686776, calinski score = 123.5079642478839\n",
            "n_clusters = 2, linkage = complete, silhouette score = 0.39578108584651617, calinski score = 136.22385707739355\n",
            "n_clusters = 2, linkage = average, silhouette score = 0.39498548546644174, calinski score = 136.41273317832253\n",
            "n_clusters = 2, linkage = single, silhouette score = 0.27099334026312066, calinski score = 59.03561346036798\n",
            "n_clusters = 3, linkage = ward, silhouette score = 0.39759995727734876, calinski score = 122.50445446254955\n",
            "n_clusters = 3, linkage = complete, silhouette score = 0.36243512653318816, calinski score = 112.15555734647552\n",
            "n_clusters = 3, linkage = average, silhouette score = 0.3959949935135856, calinski score = 121.8618916015189\n",
            "n_clusters = 3, linkage = single, silhouette score = 0.07984578944700167, calinski score = 29.959072635128912\n",
            "n_clusters = 4, linkage = ward, silhouette score = 0.4547067117897284, calinski score = 147.05831152397798\n",
            "n_clusters = 4, linkage = complete, silhouette score = 0.4020394613203118, calinski score = 134.64198144649617\n",
            "n_clusters = 4, linkage = average, silhouette score = 0.4639668249181765, calinski score = 160.18670303597654\n",
            "n_clusters = 4, linkage = single, silhouette score = -0.04957484863084025, calinski score = 20.24746948303065\n",
            "n_clusters = 5, linkage = ward, silhouette score = 0.4858411635837739, calinski score = 181.45593214779313\n",
            "n_clusters = 5, linkage = complete, silhouette score = 0.49279812016607744, calinski score = 182.80586805021937\n",
            "n_clusters = 5, linkage = average, silhouette score = 0.49022675171419705, calinski score = 173.0040218127154\n",
            "n_clusters = 5, linkage = single, silhouette score = 0.0681336213261535, calinski score = 32.92950662822259\n",
            "n_clusters = 6, linkage = ward, silhouette score = 0.5082314409240013, calinski score = 198.1843975737184\n",
            "n_clusters = 6, linkage = complete, silhouette score = 0.5070360743049218, calinski score = 211.32566476750685\n",
            "n_clusters = 6, linkage = average, silhouette score = 0.5244504622329711, calinski score = 226.54196268187192\n",
            "n_clusters = 6, linkage = single, silhouette score = 0.2271030263364741, calinski score = 69.89116055274002\n",
            "n_clusters = 7, linkage = ward, silhouette score = 0.48664375734144616, calinski score = 202.04451568912208\n",
            "n_clusters = 7, linkage = complete, silhouette score = 0.5079129208195502, calinski score = 209.7834372830827\n",
            "n_clusters = 7, linkage = average, silhouette score = 0.5103161867097105, calinski score = 218.0517912272394\n",
            "n_clusters = 7, linkage = single, silhouette score = 0.23484957193513595, calinski score = 63.01563679627281\n",
            "n_clusters = 8, linkage = ward, silhouette score = 0.48606340472576975, calinski score = 215.15472420332802\n",
            "n_clusters = 8, linkage = complete, silhouette score = 0.45619968390317156, calinski score = 198.5495273833113\n",
            "n_clusters = 8, linkage = average, silhouette score = 0.5030726033775396, calinski score = 210.05908153780456\n",
            "n_clusters = 8, linkage = single, silhouette score = 0.24448598244588907, calinski score = 58.91752857800832\n",
            "n_clusters = 9, linkage = ward, silhouette score = 0.49221113062780125, calinski score = 215.37328264377564\n",
            "n_clusters = 9, linkage = complete, silhouette score = 0.45583965508531465, calinski score = 203.30707008531934\n",
            "n_clusters = 9, linkage = average, silhouette score = 0.48047223970291314, calinski score = 206.02663731080455\n",
            "n_clusters = 9, linkage = single, silhouette score = 0.2190283316738921, calinski score = 51.64402010659636\n",
            "n_clusters = 10, linkage = ward, silhouette score = 0.457184871466987, calinski score = 212.9047192292808\n",
            "n_clusters = 10, linkage = complete, silhouette score = 0.4460831837588984, calinski score = 201.65461509868229\n",
            "n_clusters = 10, linkage = average, silhouette score = 0.47351896426602286, calinski score = 209.36719049032405\n",
            "n_clusters = 10, linkage = single, silhouette score = 0.15763660163542587, calinski score = 46.10823664188267\n"
          ],
          "name": "stdout"
        }
      ]
    },
    {
      "cell_type": "markdown",
      "metadata": {
        "id": "GTEGbyKw4Rf6",
        "colab_type": "text"
      },
      "source": [
        "### Variando affinity, mantendo n_clusters=6 e linkage='average'\n",
        "\n",
        "affinity : string or callable, default: “euclidean”\n",
        "Metric used to compute the linkage. Can be “euclidean”, “l1”, “l2”, “manhattan”, “cosine”, or “precomputed”.\n",
        "\n",
        "Verifica-se que os parâmetros de affinity={'euclidean', 'l2', 'cosine'}, obtiveram os mesmos resultados. Como 'euclidean' é o default, não há porque alterar esse parâmetro."
      ]
    },
    {
      "cell_type": "code",
      "metadata": {
        "id": "1uFkNI2S4REP",
        "colab_type": "code",
        "outputId": "872214c1-4f1d-4542-df56-4585fbdee2d3",
        "colab": {
          "base_uri": "https://localhost:8080/",
          "height": 100
        }
      },
      "source": [
        "affinity_types = ['euclidean', 'l1', 'l2', 'manhattan', 'cosine']\n",
        "\n",
        "for affinity in affinity_types:\n",
        "  agglo_model = AgglomerativeClustering(n_clusters=6, affinity=affinity, linkage='average').fit(X_normalized)\n",
        "  labels = agglo_model.labels_\n",
        "  silhouette = silhouette_score(X_normalized, labels, metric='euclidean')\n",
        "  calinski = calinski_harabasz_score(X_normalized, labels)\n",
        "  print(\"affinity = {}, silhouette score = {}, calinski score = {}\".format(affinity, silhouette, calinski))"
      ],
      "execution_count": 35,
      "outputs": [
        {
          "output_type": "stream",
          "text": [
            "affinity = euclidean, silhouette score = 0.5244504622329711, calinski score = 226.54196268187192\n",
            "affinity = l1, silhouette score = 0.5150802513432088, calinski score = 206.92592564606477\n",
            "affinity = l2, silhouette score = 0.5244504622329711, calinski score = 226.54196268187192\n",
            "affinity = manhattan, silhouette score = 0.5150802513432088, calinski score = 206.92592564606477\n",
            "affinity = cosine, silhouette score = 0.5244504622329711, calinski score = 226.54196268187192\n"
          ],
          "name": "stdout"
        }
      ]
    },
    {
      "cell_type": "markdown",
      "metadata": {
        "id": "p1a-xyon_olZ",
        "colab_type": "text"
      },
      "source": [
        "### Utilizando a melhor configuração encontrada\n",
        "\n",
        "AgglomerativeClustering(n_clusters=6, linkage='average')"
      ]
    },
    {
      "cell_type": "code",
      "metadata": {
        "id": "-ELmQ4-T_oGq",
        "colab_type": "code",
        "outputId": "62799215-c4b6-4570-953c-42e9f81c042e",
        "colab": {
          "base_uri": "https://localhost:8080/",
          "height": 50
        }
      },
      "source": [
        "agglo_model = AgglomerativeClustering(n_clusters=6, linkage='average').fit(X_normalized)\n",
        "labels = agglo_model.labels_\n",
        "silhouette = silhouette_score(X_normalized, labels, metric='euclidean')\n",
        "calinski = calinski_harabasz_score(X_normalized, labels)\n",
        "print(\"Silhueta = {}\".format(silhouette))\n",
        "print(\"Calinski Harabasz = {}\".format(calinski))"
      ],
      "execution_count": 37,
      "outputs": [
        {
          "output_type": "stream",
          "text": [
            "Silhueta = 0.5244504622329711\n",
            "Calinski Harabasz = 226.54196268187192\n"
          ],
          "name": "stdout"
        }
      ]
    },
    {
      "cell_type": "code",
      "metadata": {
        "id": "EZkuVASTCYDB",
        "colab_type": "code",
        "outputId": "24d53beb-030e-42f2-a83a-44548f636fce",
        "colab": {
          "base_uri": "https://localhost:8080/",
          "height": 458
        }
      },
      "source": [
        "f = plt.figure(figsize=(10, 7))\n",
        "plt.scatter(X_normalized.iloc[:,0], X_normalized.iloc[:,1], c=labels)\n",
        "plt.title((\"Agglomerative clusteing on sample data \"\n",
        "             \"with n_clusters=6 and linkage='average'\"),\n",
        "             fontsize=14, fontweight='bold')\n",
        "\n",
        "plt.xlabel(\"Feature space for the 1st feature\")\n",
        "plt.ylabel(\"Feature space for the 2nd feature\")\n",
        "plt.show()"
      ],
      "execution_count": 38,
      "outputs": [
        {
          "output_type": "display_data",
          "data": {
            "image/png": "[encoded data removed]",
            "text/plain": [
              "<Figure size 720x504 with 1 Axes>"
            ]
          },
          "metadata": {
            "tags": []
          }
        }
      ]
    },
    {
      "cell_type": "code",
      "metadata": {
        "id": "yNqEmgmiBN7g",
        "colab_type": "code",
        "colab": {}
      },
      "source": [
        "from scipy.cluster.hierarchy import dendrogram\n",
        "\n",
        "def plot_dendrogram(model, **kwargs):\n",
        "\n",
        "    children = model.children_\n",
        "\n",
        "    # Distances between each pair of children\n",
        "    distance = np.arange(children.shape[0])\n",
        "\n",
        "    # The number of observations contained in each cluster level\n",
        "    no_of_observations = np.arange(2, children.shape[0]+2)\n",
        "\n",
        "    # Create linkage matrix and then plot the dendrogram\n",
        "    linkage_matrix = np.column_stack([children, distance, no_of_observations]).astype(float)\n",
        "\n",
        "    # Plot the corresponding dendrogram\n",
        "    dendrogram(linkage_matrix, **kwargs)"
      ],
      "execution_count": 0,
      "outputs": []
    },
    {
      "cell_type": "code",
      "metadata": {
        "id": "U8syJzoxBXBu",
        "colab_type": "code",
        "outputId": "f07dc86e-4528-45a6-9b62-6ca520b58c2d",
        "colab": {
          "base_uri": "https://localhost:8080/",
          "height": 328
        }
      },
      "source": [
        "f = plt.figure(figsize=(15,5))\n",
        "plt.title('Hierarchical Clustering Dendrogram')\n",
        "plot_dendrogram(agglo_model, labels=agglo_model.labels_)\n",
        "plt.show()"
      ],
      "execution_count": 40,
      "outputs": [
        {
          "output_type": "display_data",
          "data": {
            "image/png": "[encoded data removed]",
            "text/plain": [
              "<Figure size 1080x360 with 1 Axes>"
            ]
          },
          "metadata": {
            "tags": []
          }
        }
      ]
    },
    {
      "cell_type": "code",
      "metadata": {
        "id": "d86subJtE72w",
        "colab_type": "code",
        "colab": {
          "base_uri": "https://localhost:8080/",
          "height": 183
        },
        "outputId": "513d7bf9-8dd7-46f4-dfb4-b95401f9b1f7"
      },
      "source": [
        "labels"
      ],
      "execution_count": 41,
      "outputs": [
        {
          "output_type": "execute_result",
          "data": {
            "text/plain": [
              "array([1, 1, 4, 1, 4, 1, 4, 1, 4, 1, 4, 1, 4, 1, 4, 1, 4, 1, 4, 1, 4, 1,\n",
              "       4, 1, 4, 1, 4, 1, 4, 1, 4, 1, 4, 1, 4, 1, 4, 1, 4, 1, 5, 1, 4, 1,\n",
              "       4, 1, 5, 1, 1, 1, 5, 1, 1, 5, 5, 4, 5, 5, 1, 5, 5, 0, 5, 5, 5, 0,\n",
              "       5, 5, 0, 1, 5, 4, 5, 5, 5, 0, 5, 4, 0, 5, 5, 1, 5, 5, 0, 5, 5, 0,\n",
              "       1, 5, 5, 0, 5, 2, 0, 0, 5, 0, 5, 0, 0, 5, 5, 0, 5, 0, 5, 5, 5, 5,\n",
              "       5, 0, 2, 0, 0, 0, 5, 5, 5, 5, 0, 2, 3, 3, 0, 3, 2, 3, 2, 3, 2, 3,\n",
              "       0, 3, 0, 3, 2, 3, 0, 3, 2, 3, 0, 3, 0, 3, 2, 3, 2, 3, 2, 3, 2, 3,\n",
              "       2, 3, 2, 3, 2, 3, 5, 3, 0, 3, 2, 3, 2, 3, 2, 3, 2, 3, 2, 3, 2, 3,\n",
              "       2, 3, 2, 3, 2, 3, 2, 3, 2, 3, 2, 3, 2, 3, 2, 3, 2, 3, 2, 3, 2, 3,\n",
              "       2, 3])"
            ]
          },
          "metadata": {
            "tags": []
          },
          "execution_count": 41
        }
      ]
    },
    {
      "cell_type": "code",
      "metadata": {
        "id": "2-mhu3OnE9Te",
        "colab_type": "code",
        "colab": {
          "base_uri": "https://localhost:8080/",
          "height": 1000
        },
        "outputId": "f21ed322-71c8-4e1b-e6e9-54a7979b367c"
      },
      "source": [
        "X[:]"
      ],
      "execution_count": 42,
      "outputs": [
        {
          "output_type": "execute_result",
          "data": {
            "text/html": [
              "<div>\n",
              "<style scoped>\n",
              "    .dataframe tbody tr th:only-of-type {\n",
              "        vertical-align: middle;\n",
              "    }\n",
              "\n",
              "    .dataframe tbody tr th {\n",
              "        vertical-align: top;\n",
              "    }\n",
              "\n",
              "    .dataframe thead th {\n",
              "        text-align: right;\n",
              "    }\n",
              "</style>\n",
              "<table border=\"1\" class=\"dataframe\">\n",
              "  <thead>\n",
              "    <tr style=\"text-align: right;\">\n",
              "      <th></th>\n",
              "      <th>Age</th>\n",
              "      <th>Annual Income (k$)</th>\n",
              "      <th>Spending Score (1-100)</th>\n",
              "    </tr>\n",
              "  </thead>\n",
              "  <tbody>\n",
              "    <tr>\n",
              "      <th>0</th>\n",
              "      <td>19</td>\n",
              "      <td>15</td>\n",
              "      <td>39</td>\n",
              "    </tr>\n",
              "    <tr>\n",
              "      <th>1</th>\n",
              "      <td>21</td>\n",
              "      <td>15</td>\n",
              "      <td>81</td>\n",
              "    </tr>\n",
              "    <tr>\n",
              "      <th>2</th>\n",
              "      <td>20</td>\n",
              "      <td>16</td>\n",
              "      <td>6</td>\n",
              "    </tr>\n",
              "    <tr>\n",
              "      <th>3</th>\n",
              "      <td>23</td>\n",
              "      <td>16</td>\n",
              "      <td>77</td>\n",
              "    </tr>\n",
              "    <tr>\n",
              "      <th>4</th>\n",
              "      <td>31</td>\n",
              "      <td>17</td>\n",
              "      <td>40</td>\n",
              "    </tr>\n",
              "    <tr>\n",
              "      <th>5</th>\n",
              "      <td>22</td>\n",
              "      <td>17</td>\n",
              "      <td>76</td>\n",
              "    </tr>\n",
              "    <tr>\n",
              "      <th>6</th>\n",
              "      <td>35</td>\n",
              "      <td>18</td>\n",
              "      <td>6</td>\n",
              "    </tr>\n",
              "    <tr>\n",
              "      <th>7</th>\n",
              "      <td>23</td>\n",
              "      <td>18</td>\n",
              "      <td>94</td>\n",
              "    </tr>\n",
              "    <tr>\n",
              "      <th>8</th>\n",
              "      <td>64</td>\n",
              "      <td>19</td>\n",
              "      <td>3</td>\n",
              "    </tr>\n",
              "    <tr>\n",
              "      <th>9</th>\n",
              "      <td>30</td>\n",
              "      <td>19</td>\n",
              "      <td>72</td>\n",
              "    </tr>\n",
              "    <tr>\n",
              "      <th>10</th>\n",
              "      <td>67</td>\n",
              "      <td>19</td>\n",
              "      <td>14</td>\n",
              "    </tr>\n",
              "    <tr>\n",
              "      <th>11</th>\n",
              "      <td>35</td>\n",
              "      <td>19</td>\n",
              "      <td>99</td>\n",
              "    </tr>\n",
              "    <tr>\n",
              "      <th>12</th>\n",
              "      <td>58</td>\n",
              "      <td>20</td>\n",
              "      <td>15</td>\n",
              "    </tr>\n",
              "    <tr>\n",
              "      <th>13</th>\n",
              "      <td>24</td>\n",
              "      <td>20</td>\n",
              "      <td>77</td>\n",
              "    </tr>\n",
              "    <tr>\n",
              "      <th>14</th>\n",
              "      <td>37</td>\n",
              "      <td>20</td>\n",
              "      <td>13</td>\n",
              "    </tr>\n",
              "    <tr>\n",
              "      <th>15</th>\n",
              "      <td>22</td>\n",
              "      <td>20</td>\n",
              "      <td>79</td>\n",
              "    </tr>\n",
              "    <tr>\n",
              "      <th>16</th>\n",
              "      <td>35</td>\n",
              "      <td>21</td>\n",
              "      <td>35</td>\n",
              "    </tr>\n",
              "    <tr>\n",
              "      <th>17</th>\n",
              "      <td>20</td>\n",
              "      <td>21</td>\n",
              "      <td>66</td>\n",
              "    </tr>\n",
              "    <tr>\n",
              "      <th>18</th>\n",
              "      <td>52</td>\n",
              "      <td>23</td>\n",
              "      <td>29</td>\n",
              "    </tr>\n",
              "    <tr>\n",
              "      <th>19</th>\n",
              "      <td>35</td>\n",
              "      <td>23</td>\n",
              "      <td>98</td>\n",
              "    </tr>\n",
              "    <tr>\n",
              "      <th>20</th>\n",
              "      <td>35</td>\n",
              "      <td>24</td>\n",
              "      <td>35</td>\n",
              "    </tr>\n",
              "    <tr>\n",
              "      <th>21</th>\n",
              "      <td>25</td>\n",
              "      <td>24</td>\n",
              "      <td>73</td>\n",
              "    </tr>\n",
              "    <tr>\n",
              "      <th>22</th>\n",
              "      <td>46</td>\n",
              "      <td>25</td>\n",
              "      <td>5</td>\n",
              "    </tr>\n",
              "    <tr>\n",
              "      <th>23</th>\n",
              "      <td>31</td>\n",
              "      <td>25</td>\n",
              "      <td>73</td>\n",
              "    </tr>\n",
              "    <tr>\n",
              "      <th>24</th>\n",
              "      <td>54</td>\n",
              "      <td>28</td>\n",
              "      <td>14</td>\n",
              "    </tr>\n",
              "    <tr>\n",
              "      <th>25</th>\n",
              "      <td>29</td>\n",
              "      <td>28</td>\n",
              "      <td>82</td>\n",
              "    </tr>\n",
              "    <tr>\n",
              "      <th>26</th>\n",
              "      <td>45</td>\n",
              "      <td>28</td>\n",
              "      <td>32</td>\n",
              "    </tr>\n",
              "    <tr>\n",
              "      <th>27</th>\n",
              "      <td>35</td>\n",
              "      <td>28</td>\n",
              "      <td>61</td>\n",
              "    </tr>\n",
              "    <tr>\n",
              "      <th>28</th>\n",
              "      <td>40</td>\n",
              "      <td>29</td>\n",
              "      <td>31</td>\n",
              "    </tr>\n",
              "    <tr>\n",
              "      <th>29</th>\n",
              "      <td>23</td>\n",
              "      <td>29</td>\n",
              "      <td>87</td>\n",
              "    </tr>\n",
              "    <tr>\n",
              "      <th>...</th>\n",
              "      <td>...</td>\n",
              "      <td>...</td>\n",
              "      <td>...</td>\n",
              "    </tr>\n",
              "    <tr>\n",
              "      <th>170</th>\n",
              "      <td>40</td>\n",
              "      <td>87</td>\n",
              "      <td>13</td>\n",
              "    </tr>\n",
              "    <tr>\n",
              "      <th>171</th>\n",
              "      <td>28</td>\n",
              "      <td>87</td>\n",
              "      <td>75</td>\n",
              "    </tr>\n",
              "    <tr>\n",
              "      <th>172</th>\n",
              "      <td>36</td>\n",
              "      <td>87</td>\n",
              "      <td>10</td>\n",
              "    </tr>\n",
              "    <tr>\n",
              "      <th>173</th>\n",
              "      <td>36</td>\n",
              "      <td>87</td>\n",
              "      <td>92</td>\n",
              "    </tr>\n",
              "    <tr>\n",
              "      <th>174</th>\n",
              "      <td>52</td>\n",
              "      <td>88</td>\n",
              "      <td>13</td>\n",
              "    </tr>\n",
              "    <tr>\n",
              "      <th>175</th>\n",
              "      <td>30</td>\n",
              "      <td>88</td>\n",
              "      <td>86</td>\n",
              "    </tr>\n",
              "    <tr>\n",
              "      <th>176</th>\n",
              "      <td>58</td>\n",
              "      <td>88</td>\n",
              "      <td>15</td>\n",
              "    </tr>\n",
              "    <tr>\n",
              "      <th>177</th>\n",
              "      <td>27</td>\n",
              "      <td>88</td>\n",
              "      <td>69</td>\n",
              "    </tr>\n",
              "    <tr>\n",
              "      <th>178</th>\n",
              "      <td>59</td>\n",
              "      <td>93</td>\n",
              "      <td>14</td>\n",
              "    </tr>\n",
              "    <tr>\n",
              "      <th>179</th>\n",
              "      <td>35</td>\n",
              "      <td>93</td>\n",
              "      <td>90</td>\n",
              "    </tr>\n",
              "    <tr>\n",
              "      <th>180</th>\n",
              "      <td>37</td>\n",
              "      <td>97</td>\n",
              "      <td>32</td>\n",
              "    </tr>\n",
              "    <tr>\n",
              "      <th>181</th>\n",
              "      <td>32</td>\n",
              "      <td>97</td>\n",
              "      <td>86</td>\n",
              "    </tr>\n",
              "    <tr>\n",
              "      <th>182</th>\n",
              "      <td>46</td>\n",
              "      <td>98</td>\n",
              "      <td>15</td>\n",
              "    </tr>\n",
              "    <tr>\n",
              "      <th>183</th>\n",
              "      <td>29</td>\n",
              "      <td>98</td>\n",
              "      <td>88</td>\n",
              "    </tr>\n",
              "    <tr>\n",
              "      <th>184</th>\n",
              "      <td>41</td>\n",
              "      <td>99</td>\n",
              "      <td>39</td>\n",
              "    </tr>\n",
              "    <tr>\n",
              "      <th>185</th>\n",
              "      <td>30</td>\n",
              "      <td>99</td>\n",
              "      <td>97</td>\n",
              "    </tr>\n",
              "    <tr>\n",
              "      <th>186</th>\n",
              "      <td>54</td>\n",
              "      <td>101</td>\n",
              "      <td>24</td>\n",
              "    </tr>\n",
              "    <tr>\n",
              "      <th>187</th>\n",
              "      <td>28</td>\n",
              "      <td>101</td>\n",
              "      <td>68</td>\n",
              "    </tr>\n",
              "    <tr>\n",
              "      <th>188</th>\n",
              "      <td>41</td>\n",
              "      <td>103</td>\n",
              "      <td>17</td>\n",
              "    </tr>\n",
              "    <tr>\n",
              "      <th>189</th>\n",
              "      <td>36</td>\n",
              "      <td>103</td>\n",
              "      <td>85</td>\n",
              "    </tr>\n",
              "    <tr>\n",
              "      <th>190</th>\n",
              "      <td>34</td>\n",
              "      <td>103</td>\n",
              "      <td>23</td>\n",
              "    </tr>\n",
              "    <tr>\n",
              "      <th>191</th>\n",
              "      <td>32</td>\n",
              "      <td>103</td>\n",
              "      <td>69</td>\n",
              "    </tr>\n",
              "    <tr>\n",
              "      <th>192</th>\n",
              "      <td>33</td>\n",
              "      <td>113</td>\n",
              "      <td>8</td>\n",
              "    </tr>\n",
              "    <tr>\n",
              "      <th>193</th>\n",
              "      <td>38</td>\n",
              "      <td>113</td>\n",
              "      <td>91</td>\n",
              "    </tr>\n",
              "    <tr>\n",
              "      <th>194</th>\n",
              "      <td>47</td>\n",
              "      <td>120</td>\n",
              "      <td>16</td>\n",
              "    </tr>\n",
              "    <tr>\n",
              "      <th>195</th>\n",
              "      <td>35</td>\n",
              "      <td>120</td>\n",
              "      <td>79</td>\n",
              "    </tr>\n",
              "    <tr>\n",
              "      <th>196</th>\n",
              "      <td>45</td>\n",
              "      <td>126</td>\n",
              "      <td>28</td>\n",
              "    </tr>\n",
              "    <tr>\n",
              "      <th>197</th>\n",
              "      <td>32</td>\n",
              "      <td>126</td>\n",
              "      <td>74</td>\n",
              "    </tr>\n",
              "    <tr>\n",
              "      <th>198</th>\n",
              "      <td>32</td>\n",
              "      <td>137</td>\n",
              "      <td>18</td>\n",
              "    </tr>\n",
              "    <tr>\n",
              "      <th>199</th>\n",
              "      <td>30</td>\n",
              "      <td>137</td>\n",
              "      <td>83</td>\n",
              "    </tr>\n",
              "  </tbody>\n",
              "</table>\n",
              "<p>200 rows × 3 columns</p>\n",
              "</div>"
            ],
            "text/plain": [
              "     Age  Annual Income (k$)  Spending Score (1-100)\n",
              "0     19                  15                      39\n",
              "1     21                  15                      81\n",
              "2     20                  16                       6\n",
              "3     23                  16                      77\n",
              "4     31                  17                      40\n",
              "5     22                  17                      76\n",
              "6     35                  18                       6\n",
              "7     23                  18                      94\n",
              "8     64                  19                       3\n",
              "9     30                  19                      72\n",
              "10    67                  19                      14\n",
              "11    35                  19                      99\n",
              "12    58                  20                      15\n",
              "13    24                  20                      77\n",
              "14    37                  20                      13\n",
              "15    22                  20                      79\n",
              "16    35                  21                      35\n",
              "17    20                  21                      66\n",
              "18    52                  23                      29\n",
              "19    35                  23                      98\n",
              "20    35                  24                      35\n",
              "21    25                  24                      73\n",
              "22    46                  25                       5\n",
              "23    31                  25                      73\n",
              "24    54                  28                      14\n",
              "25    29                  28                      82\n",
              "26    45                  28                      32\n",
              "27    35                  28                      61\n",
              "28    40                  29                      31\n",
              "29    23                  29                      87\n",
              "..   ...                 ...                     ...\n",
              "170   40                  87                      13\n",
              "171   28                  87                      75\n",
              "172   36                  87                      10\n",
              "173   36                  87                      92\n",
              "174   52                  88                      13\n",
              "175   30                  88                      86\n",
              "176   58                  88                      15\n",
              "177   27                  88                      69\n",
              "178   59                  93                      14\n",
              "179   35                  93                      90\n",
              "180   37                  97                      32\n",
              "181   32                  97                      86\n",
              "182   46                  98                      15\n",
              "183   29                  98                      88\n",
              "184   41                  99                      39\n",
              "185   30                  99                      97\n",
              "186   54                 101                      24\n",
              "187   28                 101                      68\n",
              "188   41                 103                      17\n",
              "189   36                 103                      85\n",
              "190   34                 103                      23\n",
              "191   32                 103                      69\n",
              "192   33                 113                       8\n",
              "193   38                 113                      91\n",
              "194   47                 120                      16\n",
              "195   35                 120                      79\n",
              "196   45                 126                      28\n",
              "197   32                 126                      74\n",
              "198   32                 137                      18\n",
              "199   30                 137                      83\n",
              "\n",
              "[200 rows x 3 columns]"
            ]
          },
          "metadata": {
            "tags": []
          },
          "execution_count": 42
        }
      ]
    }
  ]
}